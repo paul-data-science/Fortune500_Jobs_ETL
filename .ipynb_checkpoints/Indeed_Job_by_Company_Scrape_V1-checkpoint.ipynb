{
 "cells": [
  {
   "cell_type": "code",
   "execution_count": 186,
   "metadata": {},
   "outputs": [],
   "source": [
    "# Dependencies\n",
    "from bs4 import BeautifulSoup as bs\n",
    "import pandas as pd\n",
    "import requests\n",
    "import datetime\n",
    "import re"
   ]
  },
  {
   "cell_type": "code",
   "execution_count": 187,
   "metadata": {},
   "outputs": [],
   "source": [
    "# Top Fortune 500 of YR 2018 short list\n",
    "top_fortune500=['Walmart', 'Apple','Exxon Mobil','Booz Allen Hamilton']\n",
    "now = datetime.datetime.now()\n",
    "#div class=\"list-search-wrapper\" data-reactid=\"\n",
    "fortune_pg=\"http://www.fortune.com/fortune500/list/\"\n",
    "fortune_html = requests.get(fortune_pg)\n",
    "fortune_soup = bs(fortune_html.text, 'html.parser')\n",
    "fortune_list = fortune_soup.find_all('div')"
   ]
  },
  {
   "cell_type": "code",
   "execution_count": 190,
   "metadata": {},
   "outputs": [
    {
     "name": "stdout",
     "output_type": "stream",
     "text": [
      ".2d2tyfo9sqg.2.0.1.0.1.0.0.1.0\n",
      ".2d2tyfo9sqg.2.0.1.0.3.0.$navigation-item-Home.0\n",
      ".2d2tyfo9sqg.2.0.1.0.3.0.$navigation-item-Tech.0\n",
      ".2d2tyfo9sqg.2.0.1.0.3.0.$navigation-item-Leadership.0\n",
      ".2d2tyfo9sqg.2.0.1.0.3.0.$navigation-item-Venture.0\n",
      ".2d2tyfo9sqg.2.0.1.0.3.0.$navigation-item-Fortune Insiders.0\n",
      ".2d2tyfo9sqg.2.0.1.0.3.0.$navigation-item-Most Powerful Women.0\n",
      ".2d2tyfo9sqg.2.0.1.0.3.0.$navigation-item-Automotive.0\n",
      ".2d2tyfo9sqg.2.0.1.0.3.0.$navigation-item-Careers.0\n",
      ".2d2tyfo9sqg.2.0.1.0.3.0.$navigation-item-Energy & Environment.0\n",
      ".2d2tyfo9sqg.2.0.1.0.3.0.$navigation-item-Executive Travel.0\n",
      ".2d2tyfo9sqg.2.0.1.0.3.0.$navigation-item-Finance.0\n",
      ".2d2tyfo9sqg.2.0.1.0.3.0.$navigation-item-Health.0\n",
      ".2d2tyfo9sqg.2.0.1.0.3.0.$navigation-item-international.0\n",
      ".2d2tyfo9sqg.2.0.1.0.3.0.$navigation-item-Retail.0\n",
      ".2d2tyfo9sqg.2.0.1.0.3.0.$navigation-item-Markets.0\n",
      ".2d2tyfo9sqg.2.0.1.0.3.0.$navigation-item-Magazine.0\n",
      ".2d2tyfo9sqg.2.0.1.0.3.0.$navigation-item-Newsletters.0\n",
      ".2d2tyfo9sqg.2.0.1.0.3.0.$navigation-item-Videos.0\n",
      ".2d2tyfo9sqg.2.0.1.0.3.0.$navigation-item-About Us.0\n",
      ".2d2tyfo9sqg.2.0.1.0.3.0.$navigation-item-Fortune Conferences.0\n",
      ".2d2tyfo9sqg.2.0.1.0.4.0.0\n",
      ".2d2tyfo9sqg.2.0.2.0.1.0\n",
      ".2d2tyfo9sqg.2.0.2.0.2.0.$0.2\n",
      ".2d2tyfo9sqg.2.0.2.0.2.0.$0.3\n",
      ".2d2tyfo9sqg.2.0.2.0.2.0.$1.1\n",
      ".2d2tyfo9sqg.2.0.2.0.2.0.$2.1\n",
      ".2d2tyfo9sqg.2.0.2.0.2.0.$3.1\n",
      ".2d2tyfo9sqg.2.0.2.0.2.0.$4.1\n",
      ".2d2tyfo9sqg.2.0.3.0.1.0.0\n",
      ".2d2tyfo9sqg.2.0.3.0.1.1.0\n",
      ".2d2tyfo9sqg.2.0.3.1.0.0.3:$also on other fortune lists:0.1:$best-companies-y-n:0.0.0\n",
      ".2d2tyfo9sqg.2.0.3.1.0.0.3:$also on other fortune lists:0.1:$best-companies-y-n:0.0.2\n",
      ".2d2tyfo9sqg.2.0.3.1.0.0.3:$also on other fortune lists:0.1:$worlds-most-admired-companies-y-n:0.0.0\n",
      ".2d2tyfo9sqg.2.0.3.1.0.0.3:$also on other fortune lists:0.1:$worlds-most-admired-companies-y-n:0.0.2\n",
      ".2d2tyfo9sqg.2.0.3.1.0.0.3:$also on other fortune lists:0.1:$global500-y-n:0.0.0\n",
      ".2d2tyfo9sqg.2.0.3.1.0.0.3:$also on other fortune lists:0.1:$global500-y-n:0.0.2\n",
      ".2d2tyfo9sqg.2.0.3.1.0.0.3:$also on other fortune lists:0.1:$100-fastest-growing-companies-y-n:0.0.0\n",
      ".2d2tyfo9sqg.2.0.3.1.0.0.3:$also on other fortune lists:0.1:$100-fastest-growing-companies-y-n:0.0.2\n",
      ".2d2tyfo9sqg.2.0.3.1.0.0.3:$also on other fortune lists:0.1:$change-the-world-y-n:0.0.0\n",
      ".2d2tyfo9sqg.2.0.3.1.0.0.3:$also on other fortune lists:0.1:$change-the-world-y-n:0.0.2\n",
      ".2d2tyfo9sqg.2.0.3.1.0.0.3:$company facts:0.1:$ceowoman:0.0.0\n",
      ".2d2tyfo9sqg.2.0.3.1.0.0.3:$company facts:0.1:$ceowoman:0.0.2\n",
      ".2d2tyfo9sqg.2.0.3.1.0.0.3:$company facts:0.1:$ceofounder:0.0.0\n",
      ".2d2tyfo9sqg.2.0.3.1.0.0.3:$company facts:0.1:$ceofounder:0.0.2\n",
      ".2d2tyfo9sqg.2.0.3.1.0.0.3:$company facts:0.1:$profitable:0.0.0\n",
      ".2d2tyfo9sqg.2.0.3.1.0.0.3:$company facts:0.1:$profitable:0.0.2\n",
      ".2d2tyfo9sqg.2.0.3.1.0.0.3:$company facts:0.1:$jobgrowth:0.0.0\n",
      ".2d2tyfo9sqg.2.0.3.1.0.0.3:$company facts:0.1:$jobgrowth:0.0.2\n",
      ".2d2tyfo9sqg.2.0.3.1.0.0.3:$f500 stats:0.1:$newcomer:0.0.0\n",
      ".2d2tyfo9sqg.2.0.3.1.0.0.3:$f500 stats:0.1:$newcomer:0.0.2\n",
      ".2d2tyfo9sqg.2.0.3.1.0.0.3:$f500 stats:0.1:$rankgain:0.0.0\n",
      ".2d2tyfo9sqg.2.0.3.1.0.0.3:$f500 stats:0.1:$rankgain:0.0.2\n",
      ".2d2tyfo9sqg.2.0.3.1.0.0.3:$f500 stats:0.1:$rankdrop:0.0.0\n",
      ".2d2tyfo9sqg.2.0.3.1.0.0.3:$f500 stats:0.1:$rankdrop:0.0.2\n",
      ".2d2tyfo9sqg.2.0.5.1:1.1.0.0.0.1.1\n",
      "None\n",
      ".2d2tyfo9sqg.2.0.5.1:1.1.0.0.1.0.0.0.1.0.0\n",
      ".2d2tyfo9sqg.2.0.5.1:1.1.0.0.1.0.1.0.0.0\n",
      ".2d2tyfo9sqg.2.0.5.1:1.1.0.0.1.1.1.0.0.0\n",
      ".2d2tyfo9sqg.2.0.5.1:1.1.0.0.1.1.2.0.0.0\n",
      ".2d2tyfo9sqg.2.0.5.1:1.1.0.0.1.1.3.0.0.0\n",
      ".2d2tyfo9sqg.2.0.5.1:1.1.0.0.1.1.4.0.0.0\n",
      ".2d2tyfo9sqg.2.0.5.1:1.1.0.0.1.1.5.0.0.0\n",
      ".2d2tyfo9sqg.2.0.5.1:1.1.0.0.1.1.6.0.0.0\n",
      ".2d2tyfo9sqg.2.0.5.1:1.2.0.0.0.1.0.0\n",
      ".2d2tyfo9sqg.2.0.5.1:1.2.0.1.0.0.0\n",
      ".2d2tyfo9sqg.2.0.5.1:1.2.1.1.0.0.0\n",
      ".2d2tyfo9sqg.2.0.5.1:1.2.1.2.0.0.0\n",
      ".2d2tyfo9sqg.2.0.5.1:1.2.1.3.0.0.0\n",
      ".2d2tyfo9sqg.2.0.5.1:1.2.1.4.0.0.0\n",
      ".2d2tyfo9sqg.2.0.5.1:1.2.1.5.0.0.0\n",
      ".2d2tyfo9sqg.2.0.5.1:1.2.1.6.0.0.0\n",
      "None\n",
      "None\n",
      "None\n",
      "None\n",
      "None\n",
      "None\n",
      "None\n",
      "None\n",
      "None\n",
      "None\n",
      "None\n",
      "None\n",
      "None\n",
      "None\n",
      "None\n",
      "None\n",
      "None\n",
      "None\n",
      "None\n",
      "None\n",
      "None\n",
      "None\n",
      "None\n",
      ".2d2tyfo9sqg.2.0.5.1:2.0.0.0.0.4.0.0\n",
      ".2d2tyfo9sqg.2.0.5.1:2.0.0.0.0.4.0.1\n",
      ".2d2tyfo9sqg.2.0.5.1:2.0.0.0.0.4.0.2\n",
      ".2d2tyfo9sqg.2.0.5.1:2.0.0.0.0.4.1:$0-company-list-item-Walmart.0.0\n",
      ".2d2tyfo9sqg.2.0.5.1:2.0.0.0.0.4.1:$0-company-list-item-Walmart.0.1\n",
      ".2d2tyfo9sqg.2.0.5.1:2.0.0.0.0.4.1:$0-company-list-item-Walmart.0.2\n",
      ".2d2tyfo9sqg.2.0.5.1:2.0.0.0.0.4.1:$1-company-list-item-Exxon Mobil.0.0\n",
      ".2d2tyfo9sqg.2.0.5.1:2.0.0.0.0.4.1:$1-company-list-item-Exxon Mobil.0.1\n",
      ".2d2tyfo9sqg.2.0.5.1:2.0.0.0.0.4.1:$1-company-list-item-Exxon Mobil.0.2\n",
      ".2d2tyfo9sqg.2.0.5.1:2.0.0.0.0.4.1:$2-company-list-item-Berkshire Hathaway.0.0\n",
      ".2d2tyfo9sqg.2.0.5.1:2.0.0.0.0.4.1:$2-company-list-item-Berkshire Hathaway.0.1\n",
      ".2d2tyfo9sqg.2.0.5.1:2.0.0.0.0.4.1:$2-company-list-item-Berkshire Hathaway.0.2\n",
      ".2d2tyfo9sqg.2.0.5.1:2.0.0.0.0.4.1:$3-company-list-item-Apple.0.0\n",
      ".2d2tyfo9sqg.2.0.5.1:2.0.0.0.0.4.1:$3-company-list-item-Apple.0.1\n",
      ".2d2tyfo9sqg.2.0.5.1:2.0.0.0.0.4.1:$3-company-list-item-Apple.0.2\n",
      ".2d2tyfo9sqg.2.0.5.1:2.0.0.0.0.4.1:$4-company-list-item-UnitedHealth Group.0.0\n",
      ".2d2tyfo9sqg.2.0.5.1:2.0.0.0.0.4.1:$4-company-list-item-UnitedHealth Group.0.1\n",
      ".2d2tyfo9sqg.2.0.5.1:2.0.0.0.0.4.1:$4-company-list-item-UnitedHealth Group.0.2\n",
      ".2d2tyfo9sqg.2.0.5.1:2.0.0.0.0.4.1:$5-company-list-item-McKesson.0.0\n",
      ".2d2tyfo9sqg.2.0.5.1:2.0.0.0.0.4.1:$5-company-list-item-McKesson.0.1\n",
      ".2d2tyfo9sqg.2.0.5.1:2.0.0.0.0.4.1:$5-company-list-item-McKesson.0.2\n",
      ".2d2tyfo9sqg.2.0.5.1:2.0.0.0.0.4.1:$6-company-list-item-CVS Health.0.0\n",
      ".2d2tyfo9sqg.2.0.5.1:2.0.0.0.0.4.1:$6-company-list-item-CVS Health.0.1\n",
      ".2d2tyfo9sqg.2.0.5.1:2.0.0.0.0.4.1:$6-company-list-item-CVS Health.0.2\n",
      ".2d2tyfo9sqg.2.0.5.1:2.0.0.0.0.4.1:$7-company-list-item-Amazon=1com.0.0\n",
      ".2d2tyfo9sqg.2.0.5.1:2.0.0.0.0.4.1:$7-company-list-item-Amazon=1com.0.1\n",
      ".2d2tyfo9sqg.2.0.5.1:2.0.0.0.0.4.1:$7-company-list-item-Amazon=1com.0.2\n",
      ".2d2tyfo9sqg.2.0.5.1:2.0.0.0.0.4.1:$8-company-list-item-AT&T.0.0\n",
      ".2d2tyfo9sqg.2.0.5.1:2.0.0.0.0.4.1:$8-company-list-item-AT&T.0.1\n",
      ".2d2tyfo9sqg.2.0.5.1:2.0.0.0.0.4.1:$8-company-list-item-AT&T.0.2\n",
      ".2d2tyfo9sqg.2.0.5.1:2.0.0.0.0.4.1:$9-company-list-item-General Motors.0.0\n",
      ".2d2tyfo9sqg.2.0.5.1:2.0.0.0.0.4.1:$9-company-list-item-General Motors.0.1\n",
      ".2d2tyfo9sqg.2.0.5.1:2.0.0.0.0.4.1:$9-company-list-item-General Motors.0.2\n",
      ".2d2tyfo9sqg.2.0.5.1:2.0.0.0.0.4.1:$10-company-list-item-Ford Motor.0.0\n",
      ".2d2tyfo9sqg.2.0.5.1:2.0.0.0.0.4.1:$10-company-list-item-Ford Motor.0.1\n",
      ".2d2tyfo9sqg.2.0.5.1:2.0.0.0.0.4.1:$10-company-list-item-Ford Motor.0.2\n",
      ".2d2tyfo9sqg.2.0.5.1:2.0.0.0.0.4.1:$11-company-list-item-AmerisourceBergen.0.0\n",
      ".2d2tyfo9sqg.2.0.5.1:2.0.0.0.0.4.1:$11-company-list-item-AmerisourceBergen.0.1\n",
      ".2d2tyfo9sqg.2.0.5.1:2.0.0.0.0.4.1:$11-company-list-item-AmerisourceBergen.0.2\n",
      ".2d2tyfo9sqg.2.0.5.1:2.0.0.0.0.4.1:$12-company-list-item-Chevron.0.0\n",
      ".2d2tyfo9sqg.2.0.5.1:2.0.0.0.0.4.1:$12-company-list-item-Chevron.0.1\n",
      ".2d2tyfo9sqg.2.0.5.1:2.0.0.0.0.4.1:$12-company-list-item-Chevron.0.2\n",
      ".2d2tyfo9sqg.2.0.5.1:2.0.0.0.0.4.1:$13-company-list-item-Cardinal Health.0.0\n",
      ".2d2tyfo9sqg.2.0.5.1:2.0.0.0.0.4.1:$13-company-list-item-Cardinal Health.0.1\n",
      ".2d2tyfo9sqg.2.0.5.1:2.0.0.0.0.4.1:$13-company-list-item-Cardinal Health.0.2\n",
      ".2d2tyfo9sqg.2.0.5.1:2.0.0.0.0.4.1:$14-company-list-item-Costco.0.0\n",
      ".2d2tyfo9sqg.2.0.5.1:2.0.0.0.0.4.1:$14-company-list-item-Costco.0.1\n",
      ".2d2tyfo9sqg.2.0.5.1:2.0.0.0.0.4.1:$14-company-list-item-Costco.0.2\n",
      ".2d2tyfo9sqg.2.0.5.1:2.0.0.0.0.4.1:$15-company-list-item-Verizon.0.0\n",
      ".2d2tyfo9sqg.2.0.5.1:2.0.0.0.0.4.1:$15-company-list-item-Verizon.0.1\n",
      ".2d2tyfo9sqg.2.0.5.1:2.0.0.0.0.4.1:$15-company-list-item-Verizon.0.2\n",
      ".2d2tyfo9sqg.2.0.5.1:2.0.0.0.0.4.1:$16-company-list-item-Kroger.0.0\n",
      ".2d2tyfo9sqg.2.0.5.1:2.0.0.0.0.4.1:$16-company-list-item-Kroger.0.1\n",
      ".2d2tyfo9sqg.2.0.5.1:2.0.0.0.0.4.1:$16-company-list-item-Kroger.0.2\n",
      ".2d2tyfo9sqg.2.0.5.1:2.0.0.0.0.4.1:$17-company-list-item-General Electric.0.0\n",
      ".2d2tyfo9sqg.2.0.5.1:2.0.0.0.0.4.1:$17-company-list-item-General Electric.0.1\n",
      ".2d2tyfo9sqg.2.0.5.1:2.0.0.0.0.4.1:$17-company-list-item-General Electric.0.2\n",
      ".2d2tyfo9sqg.2.0.5.1:2.0.0.0.0.4.1:$18-company-list-item-Walgreens Boots Alliance.0.0\n",
      ".2d2tyfo9sqg.2.0.5.1:2.0.0.0.0.4.1:$18-company-list-item-Walgreens Boots Alliance.0.1\n",
      ".2d2tyfo9sqg.2.0.5.1:2.0.0.0.0.4.1:$18-company-list-item-Walgreens Boots Alliance.0.2\n",
      ".2d2tyfo9sqg.2.0.5.1:2.0.0.0.0.4.1:j.$19-company-list-item-JPMorgan Chase.0.0\n",
      ".2d2tyfo9sqg.2.0.5.1:2.0.0.0.0.4.1:j.$19-company-list-item-JPMorgan Chase.0.1\n",
      ".2d2tyfo9sqg.2.0.5.1:2.0.0.0.0.4.1:j.$19-company-list-item-JPMorgan Chase.0.2\n",
      ".2d2tyfo9sqg.2.0.5.1:2.0.0.0.0.4.1:j.1.0.0.0\n",
      ".2d2tyfo9sqg.2.0.5.1:2.0.0.0.0.5\n",
      ".2d2tyfo9sqg.2.0.6.1.0\n",
      ".2d2tyfo9sqg.2.0.6.1.0.0\n",
      ".2d2tyfo9sqg.2.0.6.1.0.3\n",
      ".2d2tyfo9sqg.2.0.6.1.0.5\n",
      ".2d2tyfo9sqg.2.0.6.1.0.7\n",
      ".2d2tyfo9sqg.2.0.6.1.0.9\n",
      ".2d2tyfo9sqg.2.0.6.1.0.b\n",
      ".2d2tyfo9sqg.2.0.6.2.0\n",
      ".2d2tyfo9sqg.2.0.6.2.1\n",
      ".2d2tyfo9sqg.2.0.6.2.1.0\n",
      ".2d2tyfo9sqg.2.0.6.2.1.2\n",
      ".2d2tyfo9sqg.2.0.6.2.1.4\n"
     ]
    }
   ],
   "source": [
    "for line in fortune_soup.find_all('span'):\n",
    "    print(line.get('data-reactid'))"
   ]
  },
  {
   "cell_type": "code",
   "execution_count": 73,
   "metadata": {},
   "outputs": [],
   "source": [
    "# What do you want to search for?\n",
    "what=\"python,+sql,+etl\""
   ]
  },
  {
   "cell_type": "code",
   "execution_count": 113,
   "metadata": {},
   "outputs": [
    {
     "name": "stdout",
     "output_type": "stream",
     "text": [
      "Walmart 822bc5d9a49270ea\n",
      "https://www.indeed.com/jobs?q=python,+sql,+etl&rbc=Walmart&jcid=822bc5d9a49270ea&sort=date\n",
      "<Response [200]>\n",
      "Apple c1099851e9794854\n",
      "https://www.indeed.com/jobs?q=python,+sql,+etl&rbc=Apple&jcid=c1099851e9794854&sort=date\n",
      "<Response [200]>\n",
      "ExxonMobil 1ddb91d85c72e885\n",
      "https://www.indeed.com/jobs?q=python,+sql,+etl&rbc=Exxon+Mobil&jcid=1ddb91d85c72e885&sort=date\n",
      "<Response [200]>\n",
      "Booz Allen Hamilton 4e041af1d0af1bc8\n",
      "https://www.indeed.com/jobs?q=python,+sql,+etl&rbc=Booz+Allen+Hamilton&jcid=4e041af1d0af1bc8&sort=date\n",
      "<Response [200]>\n"
     ]
    }
   ],
   "source": [
    "# Indeed query by company only to get company id from Indeed then apply that to second query\n",
    "jobs = []\n",
    "for co in top_fortune500:\n",
    "    first_url_step=\"https://www.indeed.com/jobs?q=\"+ co.replace(\" \",'+') +\"&sort=date\"\n",
    "    html = requests.get(first_url_step)\n",
    "    soup = bs(html.text, 'html.parser')\n",
    "    jcid = (soup.find('span', {'class':'company'}).a['onmousedown'].split('jcid=')[-1].split(\"'\")[0])\n",
    "    print(soup.find('span', {'class':'company'}).a.text.replace(\"\\n\",\"\").strip(), jcid)\n",
    "    # Current date time object\n",
    "    now = datetime.datetime.now()\n",
    "    second_url_step=\"https://www.indeed.com/jobs?q=\"+ what + \"&rbc=\" + co.replace(\" \",'+') + \"&jcid=\" + jcid + \"&sort=date\"\n",
    "    print(second_url_step)\n",
    "    html2 = requests.get(second_url_step)\n",
    "    print(html2)\n",
    "    next_soup = bs(html2.text, 'html.parser')\n",
    "    all_jobs = next_soup.find_all('div', {'data-tn-component':\"organicJob\"})\n",
    "    job_no = 0\n",
    "    for result in all_jobs:\n",
    "        #print(result)\n",
    "        job_row = {}\n",
    "        co_text = result.find('span', {'class':'company'})\n",
    "        #print(co_text)\n",
    "        job_row['company'] = co_text.a.text.replace(\"\\n\",\"\").strip()\n",
    "        job_row['jcid'] = result.find('span', {'class':'company'}).a['onmousedown'].split('jcid=')[-1].split(\"'\")[0]\n",
    "        job_row['loc'] = result.find('span', {'class':'location'}).text\n",
    "        job_row['job_no'] =  job_no + 1\n",
    "        job_row['title'] = result.find('a', {'data-tn-element':'jobTitle'}).text\n",
    "        job_row['desc'] = result.find('span', {'class':'summary'}).text.replace(\"\\n\",\"\").strip()\n",
    "        job_row['age'] = result.find('span', {'class':'date'}).text\n",
    "        job_row['query_date'] = now.isoformat().split('T')[0]\n",
    "        job_row['query_time'] = now.isoformat().split('T')[1].split('.')[0]\n",
    "        job_row['jkid'] = result.h2.a['href'].split('?')[1].split('&')[0].split('jk=')[1]\n",
    "        jobs.append(job_row)\n",
    "        job_no+=1"
   ]
  },
  {
   "cell_type": "code",
   "execution_count": 105,
   "metadata": {},
   "outputs": [
    {
     "data": {
      "text/plain": [
       "'1cb9921c748a0c2c'"
      ]
     },
     "execution_count": 105,
     "metadata": {},
     "output_type": "execute_result"
    }
   ],
   "source": [
    "next_soup.find('div', {'data-tn-component':\"organicJob\"}).h2.a['href'].split('?')[1].split('&')[0].split('jk=')[1]"
   ]
  },
  {
   "cell_type": "code",
   "execution_count": 114,
   "metadata": {},
   "outputs": [
    {
     "data": {
      "text/plain": [
       "[{'company': 'Walmart',\n",
       "  'jcid': '822bc5d9a49270ea',\n",
       "  'loc': 'Bentonville, AR 72712',\n",
       "  'job_no': 1,\n",
       "  'title': 'Business Intelligence Analyst -LEG',\n",
       "  'desc': '2 years experience with ETL, data modeling, SQL, and programming languages such as Python and R. Analyzes and interprets third-party spending, case resolutions,...',\n",
       "  'age': '2 days ago',\n",
       "  'query_date': '2018-10-29',\n",
       "  'query_time': '16:07:27',\n",
       "  'jkid': '1b40383fd862d403'},\n",
       " {'company': 'Walmart',\n",
       "  'jcid': '822bc5d9a49270ea',\n",
       "  'loc': 'Sunnyvale, CA',\n",
       "  'job_no': 2,\n",
       "  'title': 'Search/Relevance - Staff Data Scientist',\n",
       "  'desc': 'Position Description In this role you will · Act as a thought leader to identify right problems to solve for our customers · Design and implement state of...',\n",
       "  'age': '2 days ago',\n",
       "  'query_date': '2018-10-29',\n",
       "  'query_time': '16:07:27',\n",
       "  'jkid': '25492a3d97275785'},\n",
       " {'company': 'Walmart',\n",
       "  'jcid': '822bc5d9a49270ea',\n",
       "  'loc': 'San Bruno, CA 94066',\n",
       "  'job_no': 3,\n",
       "  'title': 'Product Analytics Manager',\n",
       "  'desc': 'Fluency in SQL, as well as an understanding of statistical analysis, and common pitfalls of data analysis....',\n",
       "  'age': '2 days ago',\n",
       "  'query_date': '2018-10-29',\n",
       "  'query_time': '16:07:27',\n",
       "  'jkid': '27ec2b40b1200fe2'},\n",
       " {'company': 'Walmart',\n",
       "  'jcid': '822bc5d9a49270ea',\n",
       "  'loc': 'Bentonville, AR 72712',\n",
       "  'job_no': 4,\n",
       "  'title': 'Software Engineer III',\n",
       "  'desc': \"Position Description As a Software Engineer III for Walmart Labs, you'll be responsible for large-scale, e-commerce Web applications development, tools...\",\n",
       "  'age': '2 days ago',\n",
       "  'query_date': '2018-10-29',\n",
       "  'query_time': '16:07:27',\n",
       "  'jkid': 'a3747a644aa53898'},\n",
       " {'company': 'Walmart',\n",
       "  'jcid': '822bc5d9a49270ea',\n",
       "  'loc': 'Sunnyvale, CA',\n",
       "  'job_no': 5,\n",
       "  'title': 'Staff Software Engineer',\n",
       "  'desc': \"Experience in RESTful Services, RDBMS, NoSql, Python, NodeJs, AngularJS, Java. Come join an organization where you'll get to work as part of a world-class team,...\",\n",
       "  'age': '2 days ago',\n",
       "  'query_date': '2018-10-29',\n",
       "  'query_time': '16:07:27',\n",
       "  'jkid': '47a8e7b1fc47f6a7'},\n",
       " {'company': 'Walmart',\n",
       "  'jcid': '822bc5d9a49270ea',\n",
       "  'loc': 'Reston, VA',\n",
       "  'job_no': 6,\n",
       "  'title': 'Sr Software Engineer-Tchnlgy',\n",
       "  'desc': '3 years experience with SQL Server 2008 or related program. JavaScript, CSS, XML, XHTML, HTML, SQL/ T-SQL, Core Java, Node.js, React.Js, Angular JS, NodeJS,...',\n",
       "  'age': '2 days ago',\n",
       "  'query_date': '2018-10-29',\n",
       "  'query_time': '16:07:27',\n",
       "  'jkid': '69fb8ae77baea3c0'},\n",
       " {'company': 'Walmart',\n",
       "  'jcid': '822bc5d9a49270ea',\n",
       "  'loc': 'Sunnyvale, CA',\n",
       "  'job_no': 7,\n",
       "  'title': 'Senior Director, Change Management & Communications',\n",
       "  'desc': '9 years experience with SQL and relational databases (for example, DB2, Oracle, SQL Server). Consults with business stakeholders on data-based insights....',\n",
       "  'age': '2 days ago',\n",
       "  'query_date': '2018-10-29',\n",
       "  'query_time': '16:07:27',\n",
       "  'jkid': '56876f400ca02c07'},\n",
       " {'company': 'Walmart',\n",
       "  'jcid': '822bc5d9a49270ea',\n",
       "  'loc': 'Sunnyvale, CA',\n",
       "  'job_no': 8,\n",
       "  'title': 'Senior Software Engineer',\n",
       "  'desc': \"Experience in RESTful Services, RDBMS, NoSql, Python, NodeJs, AngularJS, Java. Come join an organization where you'll get to work as part of a world-class team,...\",\n",
       "  'age': '2 days ago',\n",
       "  'query_date': '2018-10-29',\n",
       "  'query_time': '16:07:27',\n",
       "  'jkid': '64efb70b479d8044'},\n",
       " {'company': 'Walmart',\n",
       "  'jcid': '822bc5d9a49270ea',\n",
       "  'loc': 'Bentonville, AR 72712',\n",
       "  'job_no': 9,\n",
       "  'title': 'Software Engineer 3-Tchnlgy',\n",
       "  'desc': '5 years experience writing SQL queries in a database platform (for example, Oracle, DB2, Teradata, SQL Server)....',\n",
       "  'age': '3 days ago',\n",
       "  'query_date': '2018-10-29',\n",
       "  'query_time': '16:07:27',\n",
       "  'jkid': '6eb9562c992b51b4'},\n",
       " {'company': 'Walmart',\n",
       "  'jcid': '822bc5d9a49270ea',\n",
       "  'loc': 'Thomasville, GA 31792',\n",
       "  'job_no': 10,\n",
       "  'title': 'Sr. Manager - Plant Controller (Thomasville, GA)',\n",
       "  'desc': '1 year experience with financial software (for example, SAP, ERP, Essbase, SQL). Communicates accounting impacts, issues, and strategic directions....',\n",
       "  'age': '3 days ago',\n",
       "  'query_date': '2018-10-29',\n",
       "  'query_time': '16:07:27',\n",
       "  'jkid': 'a6e6a0b57bcd491a'},\n",
       " {'company': 'Apple',\n",
       "  'jcid': 'c1099851e9794854',\n",
       "  'loc': 'Santa Clara Valley, CA',\n",
       "  'job_no': 1,\n",
       "  'title': 'Cloud DevOps Manager',\n",
       "  'desc': 'Perl, python, ruby, go with experience in object oriented programming. Jun 21, 2018....',\n",
       "  'age': 'Today',\n",
       "  'query_date': '2018-10-29',\n",
       "  'query_time': '16:07:28',\n",
       "  'jkid': 'd7ab9c170fd8e2ce'},\n",
       " {'company': 'Apple',\n",
       "  'jcid': 'c1099851e9794854',\n",
       "  'loc': 'Santa Clara Valley, CA',\n",
       "  'job_no': 2,\n",
       "  'title': 'OS Integration Engineer',\n",
       "  'desc': 'Experience with Python and scripting languages (Perl, Ruby, etc.). Jul 6, 2018....',\n",
       "  'age': '1 day ago',\n",
       "  'query_date': '2018-10-29',\n",
       "  'query_time': '16:07:28',\n",
       "  'jkid': '2d99166d3ea0a11e'},\n",
       " {'company': 'Apple',\n",
       "  'jcid': 'c1099851e9794854',\n",
       "  'loc': 'Santa Clara Valley, CA',\n",
       "  'job_no': 3,\n",
       "  'title': 'iOS Software QA Engineer - Ad Platforms',\n",
       "  'desc': 'Superior knowledge of programming in Python and/or JavaScript. Sep 11, 2018....',\n",
       "  'age': '1 day ago',\n",
       "  'query_date': '2018-10-29',\n",
       "  'query_time': '16:07:28',\n",
       "  'jkid': '839f2552b4300df4'},\n",
       " {'company': 'Apple',\n",
       "  'jcid': 'c1099851e9794854',\n",
       "  'loc': 'Santa Clara Valley, CA',\n",
       "  'job_no': 4,\n",
       "  'title': 'Systems QA Robotics Automation Engineer',\n",
       "  'desc': 'Summary Posted: Oct 24, 2018 Weekly Hours: 40 Role Number: 114042031 We are looking for a creative and motivated QA Robotic Automation Engineer with excellent...',\n",
       "  'age': '1 day ago',\n",
       "  'query_date': '2018-10-29',\n",
       "  'query_time': '16:07:28',\n",
       "  'jkid': '6a227092457595ee'},\n",
       " {'company': 'Apple',\n",
       "  'jcid': 'c1099851e9794854',\n",
       "  'loc': 'Santa Clara Valley, CA',\n",
       "  'job_no': 5,\n",
       "  'title': 'Site Reliability Engineer',\n",
       "  'desc': 'Summary Posted: Oct 28, 2018 Role Number: 114279108 Imagine what you could do here. At Apple, new ideas have a way of becoming phenomenal products, services,...',\n",
       "  'age': '1 day ago',\n",
       "  'query_date': '2018-10-29',\n",
       "  'query_time': '16:07:28',\n",
       "  'jkid': 'b22aeb5dea9ada9c'},\n",
       " {'company': 'Apple',\n",
       "  'jcid': 'c1099851e9794854',\n",
       "  'loc': 'Santa Clara Valley, CA',\n",
       "  'job_no': 6,\n",
       "  'title': 'US Channel Demand Analyst',\n",
       "  'desc': 'Are you adept and have advanced Excel, SQL, along with exposure to statistical methodologies? You are experienced in MySQL, Teradata, SAS, R, Python, Alteryx or...',\n",
       "  'age': '2 days ago',\n",
       "  'query_date': '2018-10-29',\n",
       "  'query_time': '16:07:28',\n",
       "  'jkid': '9929c228e7eab779'},\n",
       " {'company': 'Apple',\n",
       "  'jcid': 'c1099851e9794854',\n",
       "  'loc': 'Santa Clara Valley, CA',\n",
       "  'job_no': 7,\n",
       "  'title': 'Synthesis - CAD Engineer',\n",
       "  'desc': 'Should have experience scripting in TCL or Perl or Python. Oct 27, 2018....',\n",
       "  'age': '2 days ago',\n",
       "  'query_date': '2018-10-29',\n",
       "  'query_time': '16:07:28',\n",
       "  'jkid': '231b7d97b8cf5608'},\n",
       " {'company': 'Apple',\n",
       "  'jcid': 'c1099851e9794854',\n",
       "  'loc': 'Santa Clara Valley, CA',\n",
       "  'job_no': 8,\n",
       "  'title': 'Procedural Audio Engineer',\n",
       "  'desc': 'Summary Posted: Oct 26, 2018 Role Number: 200004361 Apple’s Technology Development Group is looking for a Procedural Audio Engineer to develop next generation...',\n",
       "  'age': '2 days ago',\n",
       "  'query_date': '2018-10-29',\n",
       "  'query_time': '16:07:28',\n",
       "  'jkid': '8e6a4342a16fb4d7'},\n",
       " {'company': 'Apple',\n",
       "  'jcid': 'c1099851e9794854',\n",
       "  'loc': 'Santa Clara Valley, CA',\n",
       "  'job_no': 9,\n",
       "  'title': 'NPI Capacity Program Manager - iPhone',\n",
       "  'desc': 'Summary Posted: Oct 26, 2018 Weekly Hours: 40 Role Number: 200003003 Imagine what you could do here. At Apple, new ideas have a way of becoming extraordinary...',\n",
       "  'age': '2 days ago',\n",
       "  'query_date': '2018-10-29',\n",
       "  'query_time': '16:07:28',\n",
       "  'jkid': 'bba4b671d9ec62a6'},\n",
       " {'company': 'Apple',\n",
       "  'jcid': 'c1099851e9794854',\n",
       "  'loc': 'Santa Clara Valley, CA',\n",
       "  'job_no': 10,\n",
       "  'title': 'Motion Sensing Hardware Engineer: Pressure Sensors',\n",
       "  'desc': 'Summary Posted: Oct 26, 2018 Role Number: 200003980 You will play a key role in specifying, developing, characterizing, and validating motion sensing systems....',\n",
       "  'age': '2 days ago',\n",
       "  'query_date': '2018-10-29',\n",
       "  'query_time': '16:07:28',\n",
       "  'jkid': '43891c3c48d5d611'},\n",
       " {'company': 'ExxonMobil',\n",
       "  'jcid': '1ddb91d85c72e885',\n",
       "  'loc': 'Houston, TX 77046 (Montrose area)',\n",
       "  'job_no': 1,\n",
       "  'title': 'Mathematical Optimization Research Scientist',\n",
       "  'desc': '• Expert in at least one major programming language (C/C++, C#, Java, Python, etc.). ExxonMobil is looking for a mathematical optimization scientist with...',\n",
       "  'age': '2 days ago',\n",
       "  'query_date': '2018-10-29',\n",
       "  'query_time': '16:07:29',\n",
       "  'jkid': 'b2d29fb026beb382'},\n",
       " {'company': 'ExxonMobil',\n",
       "  'jcid': '1ddb91d85c72e885',\n",
       "  'loc': 'Houston, TX 77046 (Montrose area)',\n",
       "  'job_no': 2,\n",
       "  'title': 'Research Data Scientist',\n",
       "  'desc': 'Experience in Python, MATLAB, or R is required. Research Data Scientist....',\n",
       "  'age': '2 days ago',\n",
       "  'query_date': '2018-10-29',\n",
       "  'query_time': '16:07:29',\n",
       "  'jkid': '4720583a22ff3e47'},\n",
       " {'company': 'ExxonMobil',\n",
       "  'jcid': '1ddb91d85c72e885',\n",
       "  'loc': 'Houston, TX 77046 (Montrose area)',\n",
       "  'job_no': 3,\n",
       "  'title': 'Law Application Support Analyst',\n",
       "  'desc': 'Visual Studio .NET, SQL Server Management Studio, SQL Server Data Tools. SQL Server (ETL, Development in Stored Procedures / Trigger, working with large amount...',\n",
       "  'age': '3 days ago',\n",
       "  'query_date': '2018-10-29',\n",
       "  'query_time': '16:07:29',\n",
       "  'jkid': '30499d1f22003c3c'},\n",
       " {'company': 'ExxonMobil',\n",
       "  'jcid': '1ddb91d85c72e885',\n",
       "  'loc': 'Houston, TX 77046 (Montrose area)',\n",
       "  'job_no': 4,\n",
       "  'title': 'XTO IT Production Accounting Analyst',\n",
       "  'desc': 'Accounting, Database, SQL, Finance, Technology. Perform complex ad-hoc data extracts using MS SQL. Proficient with MS SQL database query optimization, in-depth...',\n",
       "  'age': '5 days ago',\n",
       "  'query_date': '2018-10-29',\n",
       "  'query_time': '16:07:29',\n",
       "  'jkid': '40a226b5018304de'},\n",
       " {'company': 'ExxonMobil',\n",
       "  'jcid': '1ddb91d85c72e885',\n",
       "  'loc': 'Houston, TX 77046 (Montrose area)',\n",
       "  'job_no': 5,\n",
       "  'title': 'Interoperability Engineer',\n",
       "  'desc': 'Understanding ETL and SLT jobs/coding. Experience developing ETL architecture, principles and standards. 5+ years experience with ETL and SLT coding....',\n",
       "  'age': '5 days ago',\n",
       "  'query_date': '2018-10-29',\n",
       "  'query_time': '16:07:29',\n",
       "  'jkid': '43a35bd226895b7d'},\n",
       " {'company': 'ExxonMobil',\n",
       "  'jcid': '1ddb91d85c72e885',\n",
       "  'loc': 'Houston, TX 77046 (Montrose area)',\n",
       "  'job_no': 6,\n",
       "  'title': 'XTO IT Business Analyst',\n",
       "  'desc': 'Proficient with SQL Server and Oracle. Business Analyst, Database, Oracle, SQL, Finance, Technology. Provide technical support, data management, end-user...',\n",
       "  'age': '5 days ago',\n",
       "  'query_date': '2018-10-29',\n",
       "  'query_time': '16:07:29',\n",
       "  'jkid': '3e9e06379559febd'},\n",
       " {'company': 'ExxonMobil',\n",
       "  'jcid': '1ddb91d85c72e885',\n",
       "  'loc': 'Houston, TX 77046 (Montrose area)',\n",
       "  'job_no': 7,\n",
       "  'title': 'UX Research Designer',\n",
       "  'desc': 'Python, C#, VB.NET, JavaScript, Angular, HTML5, CSS3, AJAX, ASP.NET, REST APIs, Web Services, MVC 4.5, WPF, WebForms, Bootstrap....',\n",
       "  'age': '6 days ago',\n",
       "  'query_date': '2018-10-29',\n",
       "  'query_time': '16:07:29',\n",
       "  'jkid': '9931d8e20ddffbf7'},\n",
       " {'company': 'ExxonMobil',\n",
       "  'jcid': '1ddb91d85c72e885',\n",
       "  'loc': 'Spring, TX',\n",
       "  'job_no': 8,\n",
       "  'title': 'Analytics Innovation Advisor',\n",
       "  'desc': 'Analytics, Engineer, Database, SQL, Project Manager, Management, Engineering, Technology. Outstanding skills in various analytical domains including programing...',\n",
       "  'age': '7 days ago',\n",
       "  'query_date': '2018-10-29',\n",
       "  'query_time': '16:07:29',\n",
       "  'jkid': '40599e00a3811c58'},\n",
       " {'company': 'ExxonMobil',\n",
       "  'jcid': '1ddb91d85c72e885',\n",
       "  'loc': 'Houston, TX 77046 (Montrose area)',\n",
       "  'job_no': 9,\n",
       "  'title': 'Technical Analyst',\n",
       "  'desc': 'Relational Database Management Systems & Database Modeling Fundamentals (SQL Server 2012+, Oracle, SQLITE3, MySQL, SQL, PL/SQL, T-SQL)....',\n",
       "  'age': '12 days ago',\n",
       "  'query_date': '2018-10-29',\n",
       "  'query_time': '16:07:29',\n",
       "  'jkid': '435f173ad665f5ce'},\n",
       " {'company': 'ExxonMobil',\n",
       "  'jcid': '1ddb91d85c72e885',\n",
       "  'loc': 'Houston, TX 77046 (Montrose area)',\n",
       "  'job_no': 10,\n",
       "  'title': 'System Architect',\n",
       "  'desc': 'Python, C#, VB.NET, JavaScript, Angular, HTML5, CSS3, AJAX, ASP.NET, REST APIs, Web Services, MVC 4.5, WPF, WebForms, Bootstrap....',\n",
       "  'age': '7 days ago',\n",
       "  'query_date': '2018-10-29',\n",
       "  'query_time': '16:07:29',\n",
       "  'jkid': '1475e37137063f5b'},\n",
       " {'company': 'Booz Allen Hamilton',\n",
       "  'jcid': '4e041af1d0af1bc8',\n",
       "  'loc': 'Rockville, MD',\n",
       "  'job_no': 1,\n",
       "  'title': 'Appian Developer, Junior',\n",
       "  'desc': 'Experience with MySQL, SQL Server, or other databases. Experience with data architecture, SQL, data modeling, and database design and administration....',\n",
       "  'age': 'Just posted',\n",
       "  'query_date': '2018-10-29',\n",
       "  'query_time': '16:07:29',\n",
       "  'jkid': '1cb9921c748a0c2c'},\n",
       " {'company': 'Booz Allen Hamilton',\n",
       "  'jcid': '4e041af1d0af1bc8',\n",
       "  'loc': 'McLean, VA',\n",
       "  'job_no': 2,\n",
       "  'title': 'Data Integration Field Engineer',\n",
       "  'desc': 'Data Integration Field Engineer The Challenge : Do you want to protect the federal government’s Cyber infrastructure from hackers, data breaches, and other...',\n",
       "  'age': 'Just posted',\n",
       "  'query_date': '2018-10-29',\n",
       "  'query_time': '16:07:29',\n",
       "  'jkid': '7ddf0a5a356dafa0'},\n",
       " {'company': 'Booz Allen Hamilton',\n",
       "  'jcid': '4e041af1d0af1bc8',\n",
       "  'loc': 'Suitland, MD',\n",
       "  'job_no': 3,\n",
       "  'title': 'Java Developer',\n",
       "  'desc': '2+ years of experience in working with Oracle, MySQL, PostgreSQL, or SQL. Are you looking for an opportunity to build a powerhouse system that consolidate and...',\n",
       "  'age': 'Just posted',\n",
       "  'query_date': '2018-10-29',\n",
       "  'query_time': '16:07:29',\n",
       "  'jkid': 'd3f0c9c79d281ecf'},\n",
       " {'company': 'Booz Allen Hamilton',\n",
       "  'jcid': '4e041af1d0af1bc8',\n",
       "  'loc': 'Washington, DC',\n",
       "  'job_no': 4,\n",
       "  'title': 'Security Operations Center Analyst',\n",
       "  'desc': 'Competitions — From programming competitions at our PyNights, and Python competition and learning events to competing in CTFs, we’ve got plenty of chances for...',\n",
       "  'age': 'Just posted',\n",
       "  'query_date': '2018-10-29',\n",
       "  'query_time': '16:07:29',\n",
       "  'jkid': 'c210237ae0003baf'},\n",
       " {'company': 'Booz Allen Hamilton',\n",
       "  'jcid': '4e041af1d0af1bc8',\n",
       "  'loc': 'Quantico, VA',\n",
       "  'job_no': 5,\n",
       "  'title': 'Web Developer',\n",
       "  'desc': 'Experience with designing reports from SharePoint data sources, including lists, libraries, SQL, or Oracle. Experience with Web application connectivity to data...',\n",
       "  'age': 'Just posted',\n",
       "  'query_date': '2018-10-29',\n",
       "  'query_time': '16:07:29',\n",
       "  'jkid': 'e83aadc6db6fec92'},\n",
       " {'company': 'Booz Allen Hamilton',\n",
       "  'jcid': '4e041af1d0af1bc8',\n",
       "  'loc': 'Washington, DC',\n",
       "  'job_no': 6,\n",
       "  'title': 'Oracle Database Administrator',\n",
       "  'desc': 'Leverage expertise with structured and unstructured data, streaming and batch data processing, ETL, data wrangling, data ingest, and data access....',\n",
       "  'age': 'Just posted',\n",
       "  'query_date': '2018-10-29',\n",
       "  'query_time': '16:07:29',\n",
       "  'jkid': '0d1128503b38f1b4'},\n",
       " {'company': 'Booz Allen Hamilton',\n",
       "  'jcid': '4e041af1d0af1bc8',\n",
       "  'loc': 'Rockville, MD',\n",
       "  'job_no': 7,\n",
       "  'title': 'Appian Lead, Senior',\n",
       "  'desc': 'Experience with MySQL, SQL Server, or other databases. Experience with data architecture, SQL, data modeling, and database design and administration....',\n",
       "  'age': 'Just posted',\n",
       "  'query_date': '2018-10-29',\n",
       "  'query_time': '16:07:29',\n",
       "  'jkid': '1ebedeabedf8b449'},\n",
       " {'company': 'Booz Allen Hamilton',\n",
       "  'jcid': '4e041af1d0af1bc8',\n",
       "  'loc': 'Suitland, MD',\n",
       "  'job_no': 8,\n",
       "  'title': 'Java API/Data Services Developer',\n",
       "  'desc': '2+ years of experience in working with Oracle, MySQL, PostgreSQL, or SQL. Java API/Data Services Developer....',\n",
       "  'age': 'Just posted',\n",
       "  'query_date': '2018-10-29',\n",
       "  'query_time': '16:07:29',\n",
       "  'jkid': '74cc95e5f94ce19c'},\n",
       " {'company': 'Booz Allen Hamilton',\n",
       "  'jcid': '4e041af1d0af1bc8',\n",
       "  'loc': 'Arlington, VA',\n",
       "  'job_no': 9,\n",
       "  'title': 'Splunk Engineer, Senior',\n",
       "  'desc': 'Experience with creating and implementing structured queries in SQL for incorporation into enterprise reporting or dashboards. Splunk Engineer, Senior....',\n",
       "  'age': 'Just posted',\n",
       "  'query_date': '2018-10-29',\n",
       "  'query_time': '16:07:29',\n",
       "  'jkid': '2d59e874f121a7fb'},\n",
       " {'company': 'Booz Allen Hamilton',\n",
       "  'jcid': '4e041af1d0af1bc8',\n",
       "  'loc': 'Chantilly, VA 20151',\n",
       "  'job_no': 10,\n",
       "  'title': 'Full Stack Developer',\n",
       "  'desc': 'Full Stack Developer The Challenge: Are you looking for an opportunity to not just develop software, but to build a system that will modernize mission...',\n",
       "  'age': 'Just posted',\n",
       "  'query_date': '2018-10-29',\n",
       "  'query_time': '16:07:29',\n",
       "  'jkid': '1bc2319ab00a9e03'}]"
      ]
     },
     "execution_count": 114,
     "metadata": {},
     "output_type": "execute_result"
    }
   ],
   "source": [
    "jobs"
   ]
  },
  {
   "cell_type": "code",
   "execution_count": 5,
   "metadata": {},
   "outputs": [
    {
     "data": {
      "text/plain": [
       "bs4.element.ResultSet"
      ]
     },
     "execution_count": 5,
     "metadata": {},
     "output_type": "execute_result"
    }
   ],
   "source": [
    "type(soup.findAll('a'))"
   ]
  },
  {
   "cell_type": "code",
   "execution_count": 100,
   "metadata": {},
   "outputs": [
    {
     "data": {
      "text/plain": [
       "'<a href=\"/jobs?q=Walmart&amp;rbc=Walmart&amp;jcid=822bc5d9a49270ea&amp;sort=date\" rel=\"nofollow\" title=\"Walmart (3530)\">Walmart</a>'"
      ]
     },
     "execution_count": 100,
     "metadata": {},
     "output_type": "execute_result"
    }
   ],
   "source": [
    "a"
   ]
  },
  {
   "cell_type": "code",
   "execution_count": 15,
   "metadata": {},
   "outputs": [
    {
     "name": "stdout",
     "output_type": "stream",
     "text": [
      "/jobs?q=Walmart&rbc=Walmart&jcid=822bc5d9a49270ea&sort=date\n"
     ]
    }
   ],
   "source": [
    "# another (shorter) method to get url with jcid for company, which I figured out last!\n",
    "soup=bs(a,'html.parser')\n",
    "output=soup.a['href']\n",
    "print(output)"
   ]
  },
  {
   "cell_type": "code",
   "execution_count": 106,
   "metadata": {},
   "outputs": [
    {
     "data": {
      "text/plain": [
       "['<a href=',\n",
       " '/jobs?q=Walmart&amp;rbc=Walmart&amp;jcid=822bc5d9a49270ea&amp;sort=date',\n",
       " ' rel=',\n",
       " 'nofollow',\n",
       " ' title=',\n",
       " 'Walmart (3530)',\n",
       " '>Walmart</a>']"
      ]
     },
     "execution_count": 106,
     "metadata": {},
     "output_type": "execute_result"
    }
   ],
   "source": [
    "a.split('\"')"
   ]
  },
  {
   "cell_type": "code",
   "execution_count": 114,
   "metadata": {},
   "outputs": [
    {
     "data": {
      "text/plain": [
       "['<a href=',\n",
       " '/jobs?q=Walmart&amp;rbc=Walmart&amp;jcid=822bc5d9a49270ea&amp;sort=date',\n",
       " 'rel=',\n",
       " 'nofollow',\n",
       " 'title=',\n",
       " 'Walmart (3530)',\n",
       " '>Walmart</a>']"
      ]
     },
     "execution_count": 114,
     "metadata": {},
     "output_type": "execute_result"
    }
   ],
   "source": [
    "[z.strip() for z in a.split('\"')]"
   ]
  },
  {
   "cell_type": "code",
   "execution_count": 112,
   "metadata": {},
   "outputs": [],
   "source": [
    "a_list=[z.strip() for z in a.split('\"')]"
   ]
  },
  {
   "cell_type": "code",
   "execution_count": 113,
   "metadata": {},
   "outputs": [
    {
     "data": {
      "text/plain": [
       "['<a href=',\n",
       " '/jobs?q=Walmart&amp;rbc=Walmart&amp;jcid=822bc5d9a49270ea&amp;sort=date',\n",
       " 'rel=',\n",
       " 'nofollow',\n",
       " 'title=',\n",
       " 'Walmart (3530)',\n",
       " '>Walmart</a>']"
      ]
     },
     "execution_count": 113,
     "metadata": {},
     "output_type": "execute_result"
    }
   ],
   "source": [
    "a_list"
   ]
  },
  {
   "cell_type": "code",
   "execution_count": 123,
   "metadata": {},
   "outputs": [
    {
     "data": {
      "text/plain": [
       "['822bc5d9a49270ea', 'amp;sort=date']"
      ]
     },
     "execution_count": 123,
     "metadata": {},
     "output_type": "execute_result"
    }
   ],
   "source": [
    "a_list[1].split(\"jcid=\")[1].split('&')"
   ]
  },
  {
   "cell_type": "code",
   "execution_count": 126,
   "metadata": {},
   "outputs": [],
   "source": [
    "jcid=a_list[1].split(\"jcid=\")[1].split('&')[0]"
   ]
  },
  {
   "cell_type": "code",
   "execution_count": 127,
   "metadata": {},
   "outputs": [],
   "source": [
    "second_url_step=\"https://www.indeed.com/jobs?q=\"+ what + \"&rbc=\" + co + \"&jcid=\" + jcid + \"&sort=date\""
   ]
  },
  {
   "cell_type": "code",
   "execution_count": 128,
   "metadata": {},
   "outputs": [
    {
     "data": {
      "text/plain": [
       "'https://www.indeed.com/jobs?q=python,+sql,+etl&rbc=Walmart&jcid=822bc5d9a49270ea&sort=date'"
      ]
     },
     "execution_count": 128,
     "metadata": {},
     "output_type": "execute_result"
    }
   ],
   "source": [
    "# I DID IT FINALLY !!!! YAH\n",
    "second_url_step"
   ]
  },
  {
   "cell_type": "code",
   "execution_count": 129,
   "metadata": {},
   "outputs": [],
   "source": [
    "html = requests.get(second_url_step)\n",
    "soup = bs(html.text, 'html.parser')"
   ]
  },
  {
   "cell_type": "code",
   "execution_count": 130,
   "metadata": {},
   "outputs": [
    {
     "data": {
      "text/plain": [
       "<Response [200]>"
      ]
     },
     "execution_count": 130,
     "metadata": {},
     "output_type": "execute_result"
    }
   ],
   "source": [
    "html"
   ]
  },
  {
   "cell_type": "code",
   "execution_count": 131,
   "metadata": {},
   "outputs": [
    {
     "data": {
      "text/plain": [
       "'San Bruno, CA 94066'"
      ]
     },
     "execution_count": 131,
     "metadata": {},
     "output_type": "execute_result"
    }
   ],
   "source": [
    "soup.find('span', {'class':'location'}).text"
   ]
  },
  {
   "cell_type": "code",
   "execution_count": null,
   "metadata": {},
   "outputs": [],
   "source": []
  },
  {
   "cell_type": "code",
   "execution_count": null,
   "metadata": {},
   "outputs": [],
   "source": []
  },
  {
   "cell_type": "code",
   "execution_count": null,
   "metadata": {},
   "outputs": [],
   "source": []
  },
  {
   "cell_type": "code",
   "execution_count": null,
   "metadata": {},
   "outputs": [],
   "source": []
  },
  {
   "cell_type": "code",
   "execution_count": 97,
   "metadata": {},
   "outputs": [
    {
     "name": "stdout",
     "output_type": "stream",
     "text": [
      "<a href=\"/jobs?q=Walmart&amp;rbc=Walmart&amp;jcid=822bc5d9a49270ea&amp;sort=date\" rel=\"nofollow\" title=\"Walmart (3530)\">Walmart</a>\n"
     ]
    }
   ],
   "source": [
    "co_string='>'+ top_fortune500[0]+'<'\n",
    "a_all=soup.findAll('a',rel='nofollow')\n",
    "for a in a_all:\n",
    "    a=str(a)\n",
    "    if 'jcid' in a and co_string in a:\n",
    "        print(a)"
   ]
  },
  {
   "cell_type": "code",
   "execution_count": 89,
   "metadata": {},
   "outputs": [
    {
     "data": {
      "text/plain": [
       "<a class=\"jobtitle turnstileLink\" data-tn-element=\"jobTitle\" href=\"/pagead/clk?mo=r&amp;ad=-6NYlbfkN0AE_hSNsRmPdLidQg_t10BUABakd1pBW5iq03Oz2Gb7VzmmHANgteymFqXM7W8DTslIIW5iOkGddausMtjWS8CJuPnCzxoIbyRZwr9mB1XqGA8H6-nNW1FOIK1txxeCwvTKLTOORjT6fs09qsvbDM0V4lxSaaaN3n24zVbWtb8hZMZX1LmgmZDw1AT6cCY-bfjInrC4hIAZahUo92giGpMpuDkxqTVqaoYT4Bxwir0vtmhkvOZLq3-B3uuZu7wTMFHRquVPKM1YTEA1qrbOVvHT_fspSC0DSyBYZBgZuj9q2vao_xsLse5IWNwEyRdpId8W5z6qLoGpiv9gfHl4rDFa9cWneM88-1NXNJPehGobRbay4Lqj_Pxo0cqWG3vqHrcw98ekIZSzq3faePzxbHO-7KzJgIiC5NwFmzjc8dFCqSWlzEO82RS7&amp;vjs=3&amp;p=3&amp;sk=&amp;fvj=0\" id=\"sja3\" onclick=\"setRefineByCookie([]); sjoc('sja3',0); convCtr('SJ')\" onmousedown=\"sjomd('sja3'); clk('sja3');\" rel=\"noopener nofollow\" target=\"_blank\" title=\"Stocking Associate\">Stocking Associate</a>"
      ]
     },
     "execution_count": 89,
     "metadata": {},
     "output_type": "execute_result"
    }
   ],
   "source": [
    "a"
   ]
  }
 ],
 "metadata": {
  "kernelspec": {
   "display_name": "Python 3",
   "language": "python",
   "name": "python3"
  },
  "language_info": {
   "codemirror_mode": {
    "name": "ipython",
    "version": 3
   },
   "file_extension": ".py",
   "mimetype": "text/x-python",
   "name": "python",
   "nbconvert_exporter": "python",
   "pygments_lexer": "ipython3",
   "version": "3.6.5"
  }
 },
 "nbformat": 4,
 "nbformat_minor": 2
}
