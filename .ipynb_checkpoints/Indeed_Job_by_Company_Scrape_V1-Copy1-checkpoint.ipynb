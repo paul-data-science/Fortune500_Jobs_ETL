{
 "cells": [
  {
   "cell_type": "code",
   "execution_count": 2,
   "metadata": {},
   "outputs": [],
   "source": [
    "# Dependencies\n",
    "from bs4 import BeautifulSoup as bs\n",
    "import pandas as pd\n",
    "import numpy as np\n",
    "import requests\n",
    "import re\n",
    "import datetime"
   ]
  },
  {
   "cell_type": "code",
   "execution_count": 10,
   "metadata": {},
   "outputs": [],
   "source": [
    "# Top Fortune 500 of YR 2018 short list\n",
    "top_fortune500=['Walmart', 'Apple', 'Exxon Mobil']"
   ]
  },
  {
   "cell_type": "code",
   "execution_count": 60,
   "metadata": {},
   "outputs": [],
   "source": [
    "# What do you want to search for?\n",
    "what=\"python,+sql,+etl\""
   ]
  },
  {
   "cell_type": "code",
   "execution_count": 85,
   "metadata": {},
   "outputs": [
    {
     "name": "stdout",
     "output_type": "stream",
     "text": [
      "Walmart 822bc5d9a49270ea\n",
      "Walmart fa13d331d81d0dda\n",
      "Apple c1099851e9794854\n",
      "ExxonMobil 1ddb91d85c72e885\n"
     ]
    }
   ],
   "source": [
    "# Indeed query by company only to get company id from Indeed then apply that is to next query\n",
    "for co in top_fortune500:\n",
    "    first_url_step=\"https://www.indeed.com/jobs?q=\"+ co +\"&sort=date\"\n",
    "    html = requests.get(first_url_step)\n",
    "    soup = bs(html.text, 'html.parser')\n",
    "    #co_string='>'+ co +'<'\n",
    "    #co_string='>'+ co.replace(\" \",\"\") +'<'\n",
    "    a_all=soup.findAll('a',rel='nofollow')\n",
    "    for a in a_all:\n",
    "        #print(co, a.text, a['href'].find('jcid'))\n",
    "        #a_str=str(a)\n",
    "        #a_txt_str=str(a.text)\n",
    "        #print(a_txt_str)\n",
    "        if 'jcid' in a['href'] and co.replace(\" \",\"\")==a.text:\n",
    "            #another_soup=bs(a,'html.parser')\n",
    "            print(a.text, a['href'].split(\"jcid=\")[1].split('&')[0])\n",
    "            jcid = a['href'].split(\"jcid=\")[1].split('&')[0]"
   ]
  },
  {
   "cell_type": "code",
   "execution_count": 115,
   "metadata": {},
   "outputs": [
    {
     "name": "stdout",
     "output_type": "stream",
     "text": [
      "https://www.indeed.com/jobs?q=python,+sql,+etl&rbc=Exxon+Mobil&jcid=1ddb91d85c72e885&sort=date\n",
      "<Response [200]>\n"
     ]
    }
   ],
   "source": [
    "second_url_step=\"https://www.indeed.com/jobs?q=\"+ what + \"&rbc=\" + co.replace(\" \",'+') + \"&jcid=\" + jcid + \"&sort=date\"\n",
    "print(second_url_step)\n",
    "html2 = requests.get(second_url_step)\n",
    "print(html2)\n",
    "next_soup = bs(html2.text, 'html.parser')\n",
    "next_soup.find_all('div', {'data-tn-component':\"organicJob\"})\n",
    "jobs = []\n",
    "job_no = 0\n",
    "for result in next_soup.find_all('div', {'data-tn-component':\"organicJob\"}):\n",
    "    #print(result)\n",
    "    job_row = {}\n",
    "    co_text = result.find('span', {'class':'company'})\n",
    "    #print(co_text)\n",
    "    job_row['job_no'] =  job_no + 1\n",
    "    job_row['company'] = co_text.a.text.replace(\"\\n\",\"\").strip()\n",
    "    job_row['jcid'] = jcid\n",
    "    job_row['loc'] = result.find('span', {'class':'location'}).text\n",
    "    job_row['title'] = result.find('a', {'data-tn-element':'jobTitle'}).text\n",
    "    job_row['desc'] = result.find('span', {'class':'summary'}).text.replace(\"\\n\",\"\").strip()\n",
    "    job_row['age'] = result.find('span', {'class':'date'}).text\n",
    "    job_row['query_date'] = \n",
    "    jobs.append(job_row)\n",
    "    job_no+=1"
   ]
  },
  {
   "cell_type": "code",
   "execution_count": 116,
   "metadata": {},
   "outputs": [
    {
     "data": {
      "text/plain": [
       "[{'job_no': 1,\n",
       "  'company': 'ExxonMobil',\n",
       "  'jcid': '1ddb91d85c72e885',\n",
       "  'loc': 'Houston, TX 77046 (Montrose area)',\n",
       "  'title': 'Mathematical Optimization Research Scientist',\n",
       "  'desc': '• Expert in at least one major programming language (C/C++, C#, Java, Python, etc.). ExxonMobil is looking for a mathematical optimization scientist with...',\n",
       "  'age': '2 days ago'},\n",
       " {'job_no': 2,\n",
       "  'company': 'ExxonMobil',\n",
       "  'jcid': '1ddb91d85c72e885',\n",
       "  'loc': 'Houston, TX 77046 (Montrose area)',\n",
       "  'title': 'Research Data Scientist',\n",
       "  'desc': 'Experience in Python, MATLAB, or R is required. Research Data Scientist....',\n",
       "  'age': '2 days ago'},\n",
       " {'job_no': 3,\n",
       "  'company': 'ExxonMobil',\n",
       "  'jcid': '1ddb91d85c72e885',\n",
       "  'loc': 'Houston, TX 77046 (Montrose area)',\n",
       "  'title': 'Law Application Support Analyst',\n",
       "  'desc': 'Visual Studio .NET, SQL Server Management Studio, SQL Server Data Tools. SQL Server (ETL, Development in Stored Procedures / Trigger, working with large amount...',\n",
       "  'age': '3 days ago'},\n",
       " {'job_no': 4,\n",
       "  'company': 'ExxonMobil',\n",
       "  'jcid': '1ddb91d85c72e885',\n",
       "  'loc': 'Houston, TX 77046 (Montrose area)',\n",
       "  'title': 'XTO IT Production Accounting Analyst',\n",
       "  'desc': 'Accounting, Database, SQL, Finance, Technology. Perform complex ad-hoc data extracts using MS SQL. Proficient with MS SQL database query optimization, in-depth...',\n",
       "  'age': '5 days ago'},\n",
       " {'job_no': 5,\n",
       "  'company': 'ExxonMobil',\n",
       "  'jcid': '1ddb91d85c72e885',\n",
       "  'loc': 'Houston, TX 77046 (Montrose area)',\n",
       "  'title': 'XTO IT Business Analyst',\n",
       "  'desc': 'Proficient with SQL Server and Oracle. Business Analyst, Database, Oracle, SQL, Finance, Technology. Provide technical support, data management, end-user...',\n",
       "  'age': '5 days ago'},\n",
       " {'job_no': 6,\n",
       "  'company': 'ExxonMobil',\n",
       "  'jcid': '1ddb91d85c72e885',\n",
       "  'loc': 'Houston, TX 77046 (Montrose area)',\n",
       "  'title': 'Interoperability Engineer',\n",
       "  'desc': 'Understanding ETL and SLT jobs/coding. Experience developing ETL architecture, principles and standards. 5+ years experience with ETL and SLT coding....',\n",
       "  'age': '5 days ago'},\n",
       " {'job_no': 7,\n",
       "  'company': 'ExxonMobil',\n",
       "  'jcid': '1ddb91d85c72e885',\n",
       "  'loc': 'Houston, TX 77046 (Montrose area)',\n",
       "  'title': 'UX Research Designer',\n",
       "  'desc': 'Python, C#, VB.NET, JavaScript, Angular, HTML5, CSS3, AJAX, ASP.NET, REST APIs, Web Services, MVC 4.5, WPF, WebForms, Bootstrap....',\n",
       "  'age': '5 days ago'},\n",
       " {'job_no': 8,\n",
       "  'company': 'ExxonMobil',\n",
       "  'jcid': '1ddb91d85c72e885',\n",
       "  'loc': 'Spring, TX',\n",
       "  'title': 'Analytics Innovation Advisor',\n",
       "  'desc': 'Analytics, Engineer, Database, SQL, Project Manager, Management, Engineering, Technology. Outstanding skills in various analytical domains including programing...',\n",
       "  'age': '6 days ago'},\n",
       " {'job_no': 9,\n",
       "  'company': 'ExxonMobil',\n",
       "  'jcid': '1ddb91d85c72e885',\n",
       "  'loc': 'Houston, TX 77046 (Montrose area)',\n",
       "  'title': 'System Architect',\n",
       "  'desc': 'Python, C#, VB.NET, JavaScript, Angular, HTML5, CSS3, AJAX, ASP.NET, REST APIs, Web Services, MVC 4.5, WPF, WebForms, Bootstrap....',\n",
       "  'age': '6 days ago'},\n",
       " {'job_no': 10,\n",
       "  'company': 'ExxonMobil',\n",
       "  'jcid': '1ddb91d85c72e885',\n",
       "  'loc': 'Houston, TX 77046 (Montrose area)',\n",
       "  'title': 'Technical Analyst',\n",
       "  'desc': 'Relational Database Management Systems & Database Modeling Fundamentals (SQL Server 2012+, Oracle, SQLITE3, MySQL, SQL, PL/SQL, T-SQL)....',\n",
       "  'age': '11 days ago'}]"
      ]
     },
     "execution_count": 116,
     "metadata": {},
     "output_type": "execute_result"
    }
   ],
   "source": [
    "jobs"
   ]
  },
  {
   "cell_type": "code",
   "execution_count": 69,
   "metadata": {},
   "outputs": [
    {
     "name": "stdout",
     "output_type": "stream",
     "text": [
      "2 days ago\n",
      "\n",
      "            • Expert in at least one major programming language (C/C++, C#, Java, Python, etc.). ExxonMobil is looking for a mathematical optimization scientist with...\n",
      "Mathematical Optimization Research Scientist\n"
     ]
    },
    {
     "data": {
      "text/plain": [
       "'Houston, TX 77046 (Montrose area)'"
      ]
     },
     "execution_count": 69,
     "metadata": {},
     "output_type": "execute_result"
    }
   ],
   "source": [
    "print(job_age); print(job_desc); print(job_title); job_loc"
   ]
  },
  {
   "cell_type": "code",
   "execution_count": 5,
   "metadata": {},
   "outputs": [
    {
     "data": {
      "text/plain": [
       "bs4.element.ResultSet"
      ]
     },
     "execution_count": 5,
     "metadata": {},
     "output_type": "execute_result"
    }
   ],
   "source": [
    "type(soup.findAll('a'))"
   ]
  },
  {
   "cell_type": "code",
   "execution_count": null,
   "metadata": {},
   "outputs": [],
   "source": [
    "soup.findall"
   ]
  },
  {
   "cell_type": "code",
   "execution_count": 100,
   "metadata": {},
   "outputs": [
    {
     "data": {
      "text/plain": [
       "'<a href=\"/jobs?q=Walmart&amp;rbc=Walmart&amp;jcid=822bc5d9a49270ea&amp;sort=date\" rel=\"nofollow\" title=\"Walmart (3530)\">Walmart</a>'"
      ]
     },
     "execution_count": 100,
     "metadata": {},
     "output_type": "execute_result"
    }
   ],
   "source": [
    "a"
   ]
  },
  {
   "cell_type": "code",
   "execution_count": 106,
   "metadata": {},
   "outputs": [
    {
     "data": {
      "text/plain": [
       "['<a href=',\n",
       " '/jobs?q=Walmart&amp;rbc=Walmart&amp;jcid=822bc5d9a49270ea&amp;sort=date',\n",
       " ' rel=',\n",
       " 'nofollow',\n",
       " ' title=',\n",
       " 'Walmart (3530)',\n",
       " '>Walmart</a>']"
      ]
     },
     "execution_count": 106,
     "metadata": {},
     "output_type": "execute_result"
    }
   ],
   "source": [
    "a.split('\"')"
   ]
  },
  {
   "cell_type": "code",
   "execution_count": 114,
   "metadata": {},
   "outputs": [
    {
     "data": {
      "text/plain": [
       "['<a href=',\n",
       " '/jobs?q=Walmart&amp;rbc=Walmart&amp;jcid=822bc5d9a49270ea&amp;sort=date',\n",
       " 'rel=',\n",
       " 'nofollow',\n",
       " 'title=',\n",
       " 'Walmart (3530)',\n",
       " '>Walmart</a>']"
      ]
     },
     "execution_count": 114,
     "metadata": {},
     "output_type": "execute_result"
    }
   ],
   "source": [
    "[z.strip() for z in a.split('\"')]"
   ]
  },
  {
   "cell_type": "code",
   "execution_count": 112,
   "metadata": {},
   "outputs": [],
   "source": [
    "a_list=[z.strip() for z in a.split('\"')]"
   ]
  },
  {
   "cell_type": "code",
   "execution_count": 113,
   "metadata": {},
   "outputs": [
    {
     "data": {
      "text/plain": [
       "['<a href=',\n",
       " '/jobs?q=Walmart&amp;rbc=Walmart&amp;jcid=822bc5d9a49270ea&amp;sort=date',\n",
       " 'rel=',\n",
       " 'nofollow',\n",
       " 'title=',\n",
       " 'Walmart (3530)',\n",
       " '>Walmart</a>']"
      ]
     },
     "execution_count": 113,
     "metadata": {},
     "output_type": "execute_result"
    }
   ],
   "source": [
    "a_list"
   ]
  },
  {
   "cell_type": "code",
   "execution_count": 123,
   "metadata": {},
   "outputs": [
    {
     "data": {
      "text/plain": [
       "['822bc5d9a49270ea', 'amp;sort=date']"
      ]
     },
     "execution_count": 123,
     "metadata": {},
     "output_type": "execute_result"
    }
   ],
   "source": [
    "a_list[1].split(\"jcid=\")[1].split('&')"
   ]
  },
  {
   "cell_type": "code",
   "execution_count": 126,
   "metadata": {},
   "outputs": [],
   "source": [
    "jcid=a_list[1].split(\"jcid=\")[1].split('&')[0]"
   ]
  },
  {
   "cell_type": "code",
   "execution_count": 127,
   "metadata": {},
   "outputs": [],
   "source": [
    "second_url_step=\"https://www.indeed.com/jobs?q=\"+ what + \"&rbc=\" + co + \"&jcid=\" + jcid + \"&sort=date\""
   ]
  },
  {
   "cell_type": "code",
   "execution_count": 128,
   "metadata": {},
   "outputs": [
    {
     "data": {
      "text/plain": [
       "'https://www.indeed.com/jobs?q=python,+sql,+etl&rbc=Walmart&jcid=822bc5d9a49270ea&sort=date'"
      ]
     },
     "execution_count": 128,
     "metadata": {},
     "output_type": "execute_result"
    }
   ],
   "source": [
    "# I DID IT FINALLY !!!! YAH\n",
    "second_url_step"
   ]
  },
  {
   "cell_type": "code",
   "execution_count": 129,
   "metadata": {},
   "outputs": [],
   "source": [
    "html = requests.get(second_url_step)\n",
    "soup = bs(html.text, 'html.parser')"
   ]
  },
  {
   "cell_type": "code",
   "execution_count": 130,
   "metadata": {},
   "outputs": [
    {
     "data": {
      "text/plain": [
       "<Response [200]>"
      ]
     },
     "execution_count": 130,
     "metadata": {},
     "output_type": "execute_result"
    }
   ],
   "source": [
    "html"
   ]
  },
  {
   "cell_type": "code",
   "execution_count": 131,
   "metadata": {},
   "outputs": [
    {
     "data": {
      "text/plain": [
       "'San Bruno, CA 94066'"
      ]
     },
     "execution_count": 131,
     "metadata": {},
     "output_type": "execute_result"
    }
   ],
   "source": [
    "soup.find('span', {'class':'location'}).text"
   ]
  },
  {
   "cell_type": "code",
   "execution_count": null,
   "metadata": {},
   "outputs": [],
   "source": [
    "if 'jcid' in a and co_string in a:\n",
    "            another_soup=bs(a,'html.parser')\n",
    "            co_link=another_soup.a['href']\n",
    "            jcid=co_link.split(\"jcid=\")[1].split('&')[0]\n",
    "            print(another_soup.a.text, jcid)"
   ]
  },
  {
   "cell_type": "code",
   "execution_count": null,
   "metadata": {},
   "outputs": [],
   "source": []
  },
  {
   "cell_type": "code",
   "execution_count": null,
   "metadata": {},
   "outputs": [],
   "source": []
  },
  {
   "cell_type": "code",
   "execution_count": null,
   "metadata": {},
   "outputs": [],
   "source": []
  },
  {
   "cell_type": "code",
   "execution_count": 97,
   "metadata": {},
   "outputs": [
    {
     "name": "stdout",
     "output_type": "stream",
     "text": [
      "<a href=\"/jobs?q=Walmart&amp;rbc=Walmart&amp;jcid=822bc5d9a49270ea&amp;sort=date\" rel=\"nofollow\" title=\"Walmart (3530)\">Walmart</a>\n"
     ]
    }
   ],
   "source": [
    "co_string='>'+ top_fortune500[0]+'<'\n",
    "a_all=soup.findAll('a',rel='nofollow')\n",
    "for a in a_all:\n",
    "    a=str(a)\n",
    "    if 'jcid' in a and co_string in a:\n",
    "        print(a)"
   ]
  },
  {
   "cell_type": "code",
   "execution_count": 89,
   "metadata": {},
   "outputs": [
    {
     "data": {
      "text/plain": [
       "<a class=\"jobtitle turnstileLink\" data-tn-element=\"jobTitle\" href=\"/pagead/clk?mo=r&amp;ad=-6NYlbfkN0AE_hSNsRmPdLidQg_t10BUABakd1pBW5iq03Oz2Gb7VzmmHANgteymFqXM7W8DTslIIW5iOkGddausMtjWS8CJuPnCzxoIbyRZwr9mB1XqGA8H6-nNW1FOIK1txxeCwvTKLTOORjT6fs09qsvbDM0V4lxSaaaN3n24zVbWtb8hZMZX1LmgmZDw1AT6cCY-bfjInrC4hIAZahUo92giGpMpuDkxqTVqaoYT4Bxwir0vtmhkvOZLq3-B3uuZu7wTMFHRquVPKM1YTEA1qrbOVvHT_fspSC0DSyBYZBgZuj9q2vao_xsLse5IWNwEyRdpId8W5z6qLoGpiv9gfHl4rDFa9cWneM88-1NXNJPehGobRbay4Lqj_Pxo0cqWG3vqHrcw98ekIZSzq3faePzxbHO-7KzJgIiC5NwFmzjc8dFCqSWlzEO82RS7&amp;vjs=3&amp;p=3&amp;sk=&amp;fvj=0\" id=\"sja3\" onclick=\"setRefineByCookie([]); sjoc('sja3',0); convCtr('SJ')\" onmousedown=\"sjomd('sja3'); clk('sja3');\" rel=\"noopener nofollow\" target=\"_blank\" title=\"Stocking Associate\">Stocking Associate</a>"
      ]
     },
     "execution_count": 89,
     "metadata": {},
     "output_type": "execute_result"
    }
   ],
   "source": [
    "a"
   ]
  }
 ],
 "metadata": {
  "kernelspec": {
   "display_name": "Python 3",
   "language": "python",
   "name": "python3"
  },
  "language_info": {
   "codemirror_mode": {
    "name": "ipython",
    "version": 3
   },
   "file_extension": ".py",
   "mimetype": "text/x-python",
   "name": "python",
   "nbconvert_exporter": "python",
   "pygments_lexer": "ipython3",
   "version": "3.6.5"
  }
 },
 "nbformat": 4,
 "nbformat_minor": 2
}
