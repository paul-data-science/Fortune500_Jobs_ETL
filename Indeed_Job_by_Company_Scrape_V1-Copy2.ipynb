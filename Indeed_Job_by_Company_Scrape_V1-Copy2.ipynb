{
 "cells": [
  {
   "cell_type": "code",
   "execution_count": 1,
   "metadata": {},
   "outputs": [],
   "source": [
    "# Dependencies\n",
    "from bs4 import BeautifulSoup as bs\n",
    "import pandas as pd\n",
    "import requests\n",
    "import datetime"
   ]
  },
  {
   "cell_type": "code",
   "execution_count": 58,
   "metadata": {},
   "outputs": [],
   "source": [
    "# Top Fortune 500 of YR 2018 short list\n",
    "top_fortune500=['Walmart', 'Apple','ExxonMobil','Booz Allen Hamilton']"
   ]
  },
  {
   "cell_type": "code",
   "execution_count": 3,
   "metadata": {},
   "outputs": [],
   "source": [
    "# What do you want to search for?\n",
    "what=\"python,+sql,+etl\""
   ]
  },
  {
   "cell_type": "code",
   "execution_count": 60,
   "metadata": {},
   "outputs": [
    {
     "name": "stdout",
     "output_type": "stream",
     "text": [
      "Walmart 822bc5d9a49270ea\n",
      "Walmart fa13d331d81d0dda\n"
     ]
    },
    {
     "ename": "AttributeError",
     "evalue": "'builtin_function_or_method' object has no attribute 'soup'",
     "output_type": "error",
     "traceback": [
      "\u001b[1;31m---------------------------------------------------------------------------\u001b[0m",
      "\u001b[1;31mAttributeError\u001b[0m                            Traceback (most recent call last)",
      "\u001b[1;32m<ipython-input-60-b7286602d8c0>\u001b[0m in \u001b[0;36m<module>\u001b[1;34m()\u001b[0m\n\u001b[0;32m     14\u001b[0m     \u001b[0msecond_url_step\u001b[0m\u001b[1;33m=\u001b[0m\u001b[1;34m\"https://www.indeed.com/jobs?q=\"\u001b[0m\u001b[1;33m+\u001b[0m \u001b[0mwhat\u001b[0m \u001b[1;33m+\u001b[0m \u001b[1;34m\"&rbc=\"\u001b[0m \u001b[1;33m+\u001b[0m \u001b[0mco\u001b[0m \u001b[1;33m+\u001b[0m \u001b[1;34m\"&jcid=\"\u001b[0m \u001b[1;33m+\u001b[0m \u001b[0mjcid\u001b[0m \u001b[1;33m+\u001b[0m \u001b[1;34m\"&sort=date\"\u001b[0m\u001b[1;33m\u001b[0m\u001b[0m\n\u001b[0;32m     15\u001b[0m     \u001b[0mhtml2\u001b[0m \u001b[1;33m=\u001b[0m \u001b[0mrequests\u001b[0m\u001b[1;33m.\u001b[0m\u001b[0mget\u001b[0m\u001b[1;33m(\u001b[0m\u001b[0msecond_url_step\u001b[0m\u001b[1;33m)\u001b[0m\u001b[1;33m\u001b[0m\u001b[0m\n\u001b[1;32m---> 16\u001b[1;33m     \u001b[0mnext\u001b[0m\u001b[1;33m.\u001b[0m\u001b[0msoup\u001b[0m \u001b[1;33m=\u001b[0m \u001b[0mbs\u001b[0m\u001b[1;33m(\u001b[0m\u001b[0mhtml2\u001b[0m\u001b[1;33m.\u001b[0m\u001b[0mtext\u001b[0m\u001b[1;33m,\u001b[0m \u001b[1;34m'html.parser'\u001b[0m\u001b[1;33m)\u001b[0m\u001b[1;33m\u001b[0m\u001b[0m\n\u001b[0m\u001b[0;32m     17\u001b[0m     \u001b[0mjob_loc\u001b[0m \u001b[1;33m=\u001b[0m \u001b[0mnext_soup\u001b[0m\u001b[1;33m.\u001b[0m\u001b[0mfind\u001b[0m\u001b[1;33m(\u001b[0m\u001b[1;34m'span'\u001b[0m\u001b[1;33m,\u001b[0m \u001b[1;33m{\u001b[0m\u001b[1;34m'class'\u001b[0m\u001b[1;33m:\u001b[0m\u001b[1;34m'location'\u001b[0m\u001b[1;33m}\u001b[0m\u001b[1;33m)\u001b[0m\u001b[1;33m.\u001b[0m\u001b[0mtext\u001b[0m\u001b[1;33m\u001b[0m\u001b[0m\n\u001b[0;32m     18\u001b[0m     \u001b[0mjob_title\u001b[0m \u001b[1;33m=\u001b[0m \u001b[0mnext_soup\u001b[0m\u001b[1;33m.\u001b[0m\u001b[0mfind\u001b[0m\u001b[1;33m(\u001b[0m\u001b[1;34m'a'\u001b[0m\u001b[1;33m,\u001b[0m \u001b[1;33m{\u001b[0m\u001b[1;34m'data-tn-element'\u001b[0m\u001b[1;33m:\u001b[0m\u001b[1;34m'jobTitle'\u001b[0m\u001b[1;33m}\u001b[0m\u001b[1;33m)\u001b[0m\u001b[1;33m.\u001b[0m\u001b[0mtext\u001b[0m\u001b[1;33m\u001b[0m\u001b[0m\n",
      "\u001b[1;31mAttributeError\u001b[0m: 'builtin_function_or_method' object has no attribute 'soup'"
     ]
    }
   ],
   "source": [
    "# Indeed query by company only to get company id from Indeed then apply that to second query\n",
    "for co in top_fortune500:\n",
    "    first_url_step=\"https://www.indeed.com/jobs?q=\"+ co +\"&sort=date\"\n",
    "    html = requests.get(first_url_step)\n",
    "    soup = bs(html.text, 'html.parser')\n",
    "    a_all=soup.findAll('a',rel='nofollow')\n",
    "    # Find/Get company id key\n",
    "    for a in a_all:\n",
    "        # problem with spaces between company names like Exxon Mobil is actually ExxonMobil inside html \n",
    "        # BUT Booz Allen Hamilton has spaces inside its name inside the html\n",
    "        # So I'm removing co.replace(\" \",\"\") from below condition\n",
    "        if 'jcid' in a['href'] and co==a.text:\n",
    "            print(a.text, a['href'].split(\"jcid=\")[1].split('&')[0])\n",
    "    second_url_step=\"https://www.indeed.com/jobs?q=\"+ what + \"&rbc=\" + co + \"&jcid=\" + jcid + \"&sort=date\"\n",
    "    html2 = requests.get(second_url_step)\n",
    "    next.soup = bs(html2.text, 'html.parser')\n",
    "    job_loc = next_soup.find('span', {'class':'location'}).text\n",
    "    job_title = next_soup.find('a', {'data-tn-element':'jobTitle'}).text\n",
    "    job_desc = next_soup.find('span', {'class':'summary'}).text\n",
    "    job_age = next_soup.find('span', {'class':'date'}).text"
   ]
  },
  {
   "cell_type": "code",
   "execution_count": 5,
   "metadata": {},
   "outputs": [
    {
     "data": {
      "text/plain": [
       "bs4.element.ResultSet"
      ]
     },
     "execution_count": 5,
     "metadata": {},
     "output_type": "execute_result"
    }
   ],
   "source": [
    "type(soup.findAll('a'))"
   ]
  },
  {
   "cell_type": "code",
   "execution_count": 100,
   "metadata": {},
   "outputs": [
    {
     "data": {
      "text/plain": [
       "'<a href=\"/jobs?q=Walmart&amp;rbc=Walmart&amp;jcid=822bc5d9a49270ea&amp;sort=date\" rel=\"nofollow\" title=\"Walmart (3530)\">Walmart</a>'"
      ]
     },
     "execution_count": 100,
     "metadata": {},
     "output_type": "execute_result"
    }
   ],
   "source": [
    "a"
   ]
  },
  {
   "cell_type": "code",
   "execution_count": 15,
   "metadata": {},
   "outputs": [
    {
     "name": "stdout",
     "output_type": "stream",
     "text": [
      "/jobs?q=Walmart&rbc=Walmart&jcid=822bc5d9a49270ea&sort=date\n"
     ]
    }
   ],
   "source": [
    "# another (shorter) method to get url with jcid for company, which I figured out last!\n",
    "soup=bs(a,'html.parser')\n",
    "output=soup.a['href']\n",
    "print(output)"
   ]
  },
  {
   "cell_type": "code",
   "execution_count": 106,
   "metadata": {},
   "outputs": [
    {
     "data": {
      "text/plain": [
       "['<a href=',\n",
       " '/jobs?q=Walmart&amp;rbc=Walmart&amp;jcid=822bc5d9a49270ea&amp;sort=date',\n",
       " ' rel=',\n",
       " 'nofollow',\n",
       " ' title=',\n",
       " 'Walmart (3530)',\n",
       " '>Walmart</a>']"
      ]
     },
     "execution_count": 106,
     "metadata": {},
     "output_type": "execute_result"
    }
   ],
   "source": [
    "a.split('\"')"
   ]
  },
  {
   "cell_type": "code",
   "execution_count": 114,
   "metadata": {},
   "outputs": [
    {
     "data": {
      "text/plain": [
       "['<a href=',\n",
       " '/jobs?q=Walmart&amp;rbc=Walmart&amp;jcid=822bc5d9a49270ea&amp;sort=date',\n",
       " 'rel=',\n",
       " 'nofollow',\n",
       " 'title=',\n",
       " 'Walmart (3530)',\n",
       " '>Walmart</a>']"
      ]
     },
     "execution_count": 114,
     "metadata": {},
     "output_type": "execute_result"
    }
   ],
   "source": [
    "[z.strip() for z in a.split('\"')]"
   ]
  },
  {
   "cell_type": "code",
   "execution_count": 112,
   "metadata": {},
   "outputs": [],
   "source": [
    "a_list=[z.strip() for z in a.split('\"')]"
   ]
  },
  {
   "cell_type": "code",
   "execution_count": 113,
   "metadata": {},
   "outputs": [
    {
     "data": {
      "text/plain": [
       "['<a href=',\n",
       " '/jobs?q=Walmart&amp;rbc=Walmart&amp;jcid=822bc5d9a49270ea&amp;sort=date',\n",
       " 'rel=',\n",
       " 'nofollow',\n",
       " 'title=',\n",
       " 'Walmart (3530)',\n",
       " '>Walmart</a>']"
      ]
     },
     "execution_count": 113,
     "metadata": {},
     "output_type": "execute_result"
    }
   ],
   "source": [
    "a_list"
   ]
  },
  {
   "cell_type": "code",
   "execution_count": 123,
   "metadata": {},
   "outputs": [
    {
     "data": {
      "text/plain": [
       "['822bc5d9a49270ea', 'amp;sort=date']"
      ]
     },
     "execution_count": 123,
     "metadata": {},
     "output_type": "execute_result"
    }
   ],
   "source": [
    "a_list[1].split(\"jcid=\")[1].split('&')"
   ]
  },
  {
   "cell_type": "code",
   "execution_count": 126,
   "metadata": {},
   "outputs": [],
   "source": [
    "jcid=a_list[1].split(\"jcid=\")[1].split('&')[0]"
   ]
  },
  {
   "cell_type": "code",
   "execution_count": 127,
   "metadata": {},
   "outputs": [],
   "source": [
    "second_url_step=\"https://www.indeed.com/jobs?q=\"+ what + \"&rbc=\" + co + \"&jcid=\" + jcid + \"&sort=date\""
   ]
  },
  {
   "cell_type": "code",
   "execution_count": 128,
   "metadata": {},
   "outputs": [
    {
     "data": {
      "text/plain": [
       "'https://www.indeed.com/jobs?q=python,+sql,+etl&rbc=Walmart&jcid=822bc5d9a49270ea&sort=date'"
      ]
     },
     "execution_count": 128,
     "metadata": {},
     "output_type": "execute_result"
    }
   ],
   "source": [
    "# I DID IT FINALLY !!!! YAH\n",
    "second_url_step"
   ]
  },
  {
   "cell_type": "code",
   "execution_count": 129,
   "metadata": {},
   "outputs": [],
   "source": [
    "html = requests.get(second_url_step)\n",
    "soup = bs(html.text, 'html.parser')"
   ]
  },
  {
   "cell_type": "code",
   "execution_count": 130,
   "metadata": {},
   "outputs": [
    {
     "data": {
      "text/plain": [
       "<Response [200]>"
      ]
     },
     "execution_count": 130,
     "metadata": {},
     "output_type": "execute_result"
    }
   ],
   "source": [
    "html"
   ]
  },
  {
   "cell_type": "code",
   "execution_count": 131,
   "metadata": {},
   "outputs": [
    {
     "data": {
      "text/plain": [
       "'San Bruno, CA 94066'"
      ]
     },
     "execution_count": 131,
     "metadata": {},
     "output_type": "execute_result"
    }
   ],
   "source": [
    "soup.find('span', {'class':'location'}).text"
   ]
  },
  {
   "cell_type": "code",
   "execution_count": null,
   "metadata": {},
   "outputs": [],
   "source": []
  },
  {
   "cell_type": "code",
   "execution_count": null,
   "metadata": {},
   "outputs": [],
   "source": []
  },
  {
   "cell_type": "code",
   "execution_count": null,
   "metadata": {},
   "outputs": [],
   "source": []
  },
  {
   "cell_type": "code",
   "execution_count": null,
   "metadata": {},
   "outputs": [],
   "source": []
  },
  {
   "cell_type": "code",
   "execution_count": 97,
   "metadata": {},
   "outputs": [
    {
     "name": "stdout",
     "output_type": "stream",
     "text": [
      "<a href=\"/jobs?q=Walmart&amp;rbc=Walmart&amp;jcid=822bc5d9a49270ea&amp;sort=date\" rel=\"nofollow\" title=\"Walmart (3530)\">Walmart</a>\n"
     ]
    }
   ],
   "source": [
    "co_string='>'+ top_fortune500[0]+'<'\n",
    "a_all=soup.findAll('a',rel='nofollow')\n",
    "for a in a_all:\n",
    "    a=str(a)\n",
    "    if 'jcid' in a and co_string in a:\n",
    "        print(a)"
   ]
  },
  {
   "cell_type": "code",
   "execution_count": 89,
   "metadata": {},
   "outputs": [
    {
     "data": {
      "text/plain": [
       "<a class=\"jobtitle turnstileLink\" data-tn-element=\"jobTitle\" href=\"/pagead/clk?mo=r&amp;ad=-6NYlbfkN0AE_hSNsRmPdLidQg_t10BUABakd1pBW5iq03Oz2Gb7VzmmHANgteymFqXM7W8DTslIIW5iOkGddausMtjWS8CJuPnCzxoIbyRZwr9mB1XqGA8H6-nNW1FOIK1txxeCwvTKLTOORjT6fs09qsvbDM0V4lxSaaaN3n24zVbWtb8hZMZX1LmgmZDw1AT6cCY-bfjInrC4hIAZahUo92giGpMpuDkxqTVqaoYT4Bxwir0vtmhkvOZLq3-B3uuZu7wTMFHRquVPKM1YTEA1qrbOVvHT_fspSC0DSyBYZBgZuj9q2vao_xsLse5IWNwEyRdpId8W5z6qLoGpiv9gfHl4rDFa9cWneM88-1NXNJPehGobRbay4Lqj_Pxo0cqWG3vqHrcw98ekIZSzq3faePzxbHO-7KzJgIiC5NwFmzjc8dFCqSWlzEO82RS7&amp;vjs=3&amp;p=3&amp;sk=&amp;fvj=0\" id=\"sja3\" onclick=\"setRefineByCookie([]); sjoc('sja3',0); convCtr('SJ')\" onmousedown=\"sjomd('sja3'); clk('sja3');\" rel=\"noopener nofollow\" target=\"_blank\" title=\"Stocking Associate\">Stocking Associate</a>"
      ]
     },
     "execution_count": 89,
     "metadata": {},
     "output_type": "execute_result"
    }
   ],
   "source": [
    "a"
   ]
  }
 ],
 "metadata": {
  "kernelspec": {
   "display_name": "Python 3",
   "language": "python",
   "name": "python3"
  },
  "language_info": {
   "codemirror_mode": {
    "name": "ipython",
    "version": 3
   },
   "file_extension": ".py",
   "mimetype": "text/x-python",
   "name": "python",
   "nbconvert_exporter": "python",
   "pygments_lexer": "ipython3",
   "version": "3.6.5"
  }
 },
 "nbformat": 4,
 "nbformat_minor": 2
}
