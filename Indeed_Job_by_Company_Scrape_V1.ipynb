{
 "cells": [
  {
   "cell_type": "code",
   "execution_count": 62,
   "metadata": {},
   "outputs": [],
   "source": [
    "# Dependencies\n",
    "from bs4 import BeautifulSoup as bs\n",
    "import pandas as pd\n",
    "import requests\n",
    "import datetime"
   ]
  },
  {
   "cell_type": "code",
   "execution_count": 58,
   "metadata": {},
   "outputs": [],
   "source": [
    "# Top Fortune 500 of YR 2018 short list\n",
    "top_fortune500=['Walmart', 'Apple','ExxonMobil','Booz Allen Hamilton']"
   ]
  },
  {
   "cell_type": "code",
   "execution_count": 3,
   "metadata": {},
   "outputs": [],
   "source": [
    "# What do you want to search for?\n",
    "what=\"python,+sql,+etl\""
   ]
  },
  {
   "cell_type": "code",
   "execution_count": 63,
   "metadata": {},
   "outputs": [
    {
     "name": "stdout",
     "output_type": "stream",
     "text": [
      "Walmart 822bc5d9a49270ea\n",
      "https://www.indeed.com/jobs?q=python,+sql,+etl&rbc=Walmart&jcid=822bc5d9a49270ea&sort=date\n",
      "<Response [200]>\n",
      "Apple c1099851e9794854\n",
      "https://www.indeed.com/jobs?q=python,+sql,+etl&rbc=Apple&jcid=c1099851e9794854&sort=date\n",
      "<Response [200]>\n",
      "ExxonMobil 1ddb91d85c72e885\n",
      "https://www.indeed.com/jobs?q=python,+sql,+etl&rbc=ExxonMobil&jcid=1ddb91d85c72e885&sort=date\n",
      "<Response [200]>\n",
      "Booz Allen Hamilton 4e041af1d0af1bc8\n",
      "https://www.indeed.com/jobs?q=python,+sql,+etl&rbc=Booz+Allen+Hamilton&jcid=4e041af1d0af1bc8&sort=date\n",
      "<Response [200]>\n"
     ]
    }
   ],
   "source": [
    "# Indeed query by company only to get company id from Indeed then apply that to second query\n",
    "jobs = []\n",
    "for co in top_fortune500:\n",
    "    first_url_step=\"https://www.indeed.com/jobs?q=\"+ co +\"&sort=date\"\n",
    "    html = requests.get(first_url_step)\n",
    "    soup = bs(html.text, 'html.parser')\n",
    "    jcid = (soup.find('span', {'class':'company'}).a['onmousedown'].split('jcid=')[-1].split(\"'\")[0])\n",
    "    print(soup.find('span', {'class':'company'}).a.text.replace(\"\\n\",\"\").strip(), jcid)\n",
    "    # Current date time object\n",
    "    now = datetime.datetime.now()\n",
    "    second_url_step=\"https://www.indeed.com/jobs?q=\"+ what + \"&rbc=\" + co.replace(\" \",'+') + \"&jcid=\" + jcid + \"&sort=date\"\n",
    "    print(second_url_step)\n",
    "    html2 = requests.get(second_url_step)\n",
    "    print(html2)\n",
    "    next_soup = bs(html2.text, 'html.parser')\n",
    "    next_soup.find_all('div', {'data-tn-component':\"organicJob\"})\n",
    "    job_no = 0\n",
    "    for result in next_soup.find_all('div', {'data-tn-component':\"organicJob\"}):\n",
    "        #print(result)\n",
    "        job_row = {}\n",
    "        co_text = result.find('span', {'class':'company'})\n",
    "        #print(co_text)\n",
    "        job_row['company'] = co_text.a.text.replace(\"\\n\",\"\").strip()\n",
    "        job_row['jcid'] = result.find('span', {'class':'company'}).a['onmousedown'].split('jcid=')[-1].split(\"'\")[0]\n",
    "        job_row['loc'] = result.find('span', {'class':'location'}).text\n",
    "        job_row['job_no'] =  job_no + 1\n",
    "        job_row['title'] = result.find('a', {'data-tn-element':'jobTitle'}).text\n",
    "        job_row['desc'] = result.find('span', {'class':'summary'}).text.replace(\"\\n\",\"\").strip()\n",
    "        job_row['age'] = result.find('span', {'class':'date'}).text\n",
    "        job_row['query_date'] = now.isoformat().split('T')[0]\n",
    "        job_row['query_time'] = now.isoformat().split('T')[1].split('.')[0]\n",
    "        #job_row['primary_key'] = job_row['company'] + job_row['job_no'] + job_row['query_date']\n",
    "        jobs.append(job_row)\n",
    "        job_no+=1"
   ]
  },
  {
   "cell_type": "code",
   "execution_count": 64,
   "metadata": {},
   "outputs": [
    {
     "data": {
      "text/plain": [
       "[{'company': 'Walmart',\n",
       "  'jcid': '822bc5d9a49270ea',\n",
       "  'loc': 'Bentonville, AR 72712',\n",
       "  'job_no': 1,\n",
       "  'title': 'Business Intelligence Analyst -LEG',\n",
       "  'desc': '2 years experience with ETL, data modeling, SQL, and programming languages such as Python and R. Analyzes and interprets third-party spending, case resolutions,...',\n",
       "  'age': '2 days ago',\n",
       "  'query_date': '2018-10-29',\n",
       "  'query_time': '12:43:02'},\n",
       " {'company': 'Walmart',\n",
       "  'jcid': '822bc5d9a49270ea',\n",
       "  'loc': 'San Bruno, CA 94066',\n",
       "  'job_no': 2,\n",
       "  'title': 'Product Analytics Manager',\n",
       "  'desc': 'Fluency in SQL, as well as an understanding of statistical analysis, and common pitfalls of data analysis....',\n",
       "  'age': '2 days ago',\n",
       "  'query_date': '2018-10-29',\n",
       "  'query_time': '12:43:02'},\n",
       " {'company': 'Walmart',\n",
       "  'jcid': '822bc5d9a49270ea',\n",
       "  'loc': 'Sunnyvale, CA',\n",
       "  'job_no': 3,\n",
       "  'title': 'Search/Relevance - Staff Data Scientist',\n",
       "  'desc': 'Position Description In this role you will · Act as a thought leader to identify right problems to solve for our customers · Design and implement state of...',\n",
       "  'age': '2 days ago',\n",
       "  'query_date': '2018-10-29',\n",
       "  'query_time': '12:43:02'},\n",
       " {'company': 'Walmart',\n",
       "  'jcid': '822bc5d9a49270ea',\n",
       "  'loc': 'Sunnyvale, CA',\n",
       "  'job_no': 4,\n",
       "  'title': 'Staff Software Engineer',\n",
       "  'desc': \"Experience in RESTful Services, RDBMS, NoSql, Python, NodeJs, AngularJS, Java. Come join an organization where you'll get to work as part of a world-class team,...\",\n",
       "  'age': '2 days ago',\n",
       "  'query_date': '2018-10-29',\n",
       "  'query_time': '12:43:02'},\n",
       " {'company': 'Walmart',\n",
       "  'jcid': '822bc5d9a49270ea',\n",
       "  'loc': 'Sunnyvale, CA',\n",
       "  'job_no': 5,\n",
       "  'title': 'Senior Director, Change Management & Communications',\n",
       "  'desc': '9 years experience with SQL and relational databases (for example, DB2, Oracle, SQL Server). Consults with business stakeholders on data-based insights....',\n",
       "  'age': '2 days ago',\n",
       "  'query_date': '2018-10-29',\n",
       "  'query_time': '12:43:02'},\n",
       " {'company': 'Walmart',\n",
       "  'jcid': '822bc5d9a49270ea',\n",
       "  'loc': 'Bentonville, AR 72712',\n",
       "  'job_no': 6,\n",
       "  'title': 'Software Engineer III',\n",
       "  'desc': \"Position Description As a Software Engineer III for Walmart Labs, you'll be responsible for large-scale, e-commerce Web applications development, tools...\",\n",
       "  'age': '2 days ago',\n",
       "  'query_date': '2018-10-29',\n",
       "  'query_time': '12:43:02'},\n",
       " {'company': 'Walmart',\n",
       "  'jcid': '822bc5d9a49270ea',\n",
       "  'loc': 'Sunnyvale, CA',\n",
       "  'job_no': 7,\n",
       "  'title': 'Senior Software Engineer',\n",
       "  'desc': \"Experience in RESTful Services, RDBMS, NoSql, Python, NodeJs, AngularJS, Java. Come join an organization where you'll get to work as part of a world-class team,...\",\n",
       "  'age': '2 days ago',\n",
       "  'query_date': '2018-10-29',\n",
       "  'query_time': '12:43:02'},\n",
       " {'company': 'Walmart',\n",
       "  'jcid': '822bc5d9a49270ea',\n",
       "  'loc': 'Reston, VA',\n",
       "  'job_no': 8,\n",
       "  'title': 'Sr Software Engineer-Tchnlgy',\n",
       "  'desc': '3 years experience with SQL Server 2008 or related program. JavaScript, CSS, XML, XHTML, HTML, SQL/ T-SQL, Core Java, Node.js, React.Js, Angular JS, NodeJS,...',\n",
       "  'age': '2 days ago',\n",
       "  'query_date': '2018-10-29',\n",
       "  'query_time': '12:43:02'},\n",
       " {'company': 'Walmart',\n",
       "  'jcid': '822bc5d9a49270ea',\n",
       "  'loc': 'Bentonville, AR 72712',\n",
       "  'job_no': 9,\n",
       "  'title': 'Software Engineer 3-Tchnlgy',\n",
       "  'desc': '5 years experience writing SQL queries in a database platform (for example, Oracle, DB2, Teradata, SQL Server)....',\n",
       "  'age': '3 days ago',\n",
       "  'query_date': '2018-10-29',\n",
       "  'query_time': '12:43:02'},\n",
       " {'company': 'Walmart',\n",
       "  'jcid': '822bc5d9a49270ea',\n",
       "  'loc': 'Thomasville, GA 31792',\n",
       "  'job_no': 10,\n",
       "  'title': 'Sr. Manager - Plant Controller (Thomasville, GA)',\n",
       "  'desc': '1 year experience with financial software (for example, SAP, ERP, Essbase, SQL). Communicates accounting impacts, issues, and strategic directions....',\n",
       "  'age': '3 days ago',\n",
       "  'query_date': '2018-10-29',\n",
       "  'query_time': '12:43:02'},\n",
       " {'company': 'Apple',\n",
       "  'jcid': 'c1099851e9794854',\n",
       "  'loc': 'Santa Clara Valley, CA',\n",
       "  'job_no': 1,\n",
       "  'title': 'Cloud DevOps Manager',\n",
       "  'desc': 'Perl, python, ruby, go with experience in object oriented programming. Jun 21, 2018....',\n",
       "  'age': 'Just posted',\n",
       "  'query_date': '2018-10-29',\n",
       "  'query_time': '12:43:03'},\n",
       " {'company': 'Apple',\n",
       "  'jcid': 'c1099851e9794854',\n",
       "  'loc': 'Santa Clara Valley, CA',\n",
       "  'job_no': 2,\n",
       "  'title': 'OS Integration Engineer',\n",
       "  'desc': 'Experience with Python and scripting languages (Perl, Ruby, etc.). Jul 6, 2018....',\n",
       "  'age': '1 day ago',\n",
       "  'query_date': '2018-10-29',\n",
       "  'query_time': '12:43:03'},\n",
       " {'company': 'Apple',\n",
       "  'jcid': 'c1099851e9794854',\n",
       "  'loc': 'Santa Clara Valley, CA',\n",
       "  'job_no': 3,\n",
       "  'title': 'iOS Software QA Engineer - Ad Platforms',\n",
       "  'desc': 'Superior knowledge of programming in Python and/or JavaScript. Sep 11, 2018....',\n",
       "  'age': '1 day ago',\n",
       "  'query_date': '2018-10-29',\n",
       "  'query_time': '12:43:03'},\n",
       " {'company': 'Apple',\n",
       "  'jcid': 'c1099851e9794854',\n",
       "  'loc': 'Santa Clara Valley, CA',\n",
       "  'job_no': 4,\n",
       "  'title': 'Site Reliability Engineer',\n",
       "  'desc': 'Summary Posted: Oct 28, 2018 Role Number: 114279108 Imagine what you could do here. At Apple, new ideas have a way of becoming phenomenal products, services,...',\n",
       "  'age': '1 day ago',\n",
       "  'query_date': '2018-10-29',\n",
       "  'query_time': '12:43:03'},\n",
       " {'company': 'Apple',\n",
       "  'jcid': 'c1099851e9794854',\n",
       "  'loc': 'Santa Clara Valley, CA',\n",
       "  'job_no': 5,\n",
       "  'title': 'Systems QA Robotics Automation Engineer',\n",
       "  'desc': 'Summary Posted: Oct 24, 2018 Weekly Hours: 40 Role Number: 114042031 We are looking for a creative and motivated QA Robotic Automation Engineer with excellent...',\n",
       "  'age': '1 day ago',\n",
       "  'query_date': '2018-10-29',\n",
       "  'query_time': '12:43:03'},\n",
       " {'company': 'Apple',\n",
       "  'jcid': 'c1099851e9794854',\n",
       "  'loc': 'Santa Clara Valley, CA',\n",
       "  'job_no': 6,\n",
       "  'title': 'US Channel Demand Analyst',\n",
       "  'desc': 'Are you adept and have advanced Excel, SQL, along with exposure to statistical methodologies? You are experienced in MySQL, Teradata, SAS, R, Python, Alteryx or...',\n",
       "  'age': '2 days ago',\n",
       "  'query_date': '2018-10-29',\n",
       "  'query_time': '12:43:03'},\n",
       " {'company': 'Apple',\n",
       "  'jcid': 'c1099851e9794854',\n",
       "  'loc': 'Santa Clara Valley, CA',\n",
       "  'job_no': 7,\n",
       "  'title': 'Synthesis - CAD Engineer',\n",
       "  'desc': 'Should have experience scripting in TCL or Perl or Python. Oct 27, 2018....',\n",
       "  'age': '2 days ago',\n",
       "  'query_date': '2018-10-29',\n",
       "  'query_time': '12:43:03'},\n",
       " {'company': 'Apple',\n",
       "  'jcid': 'c1099851e9794854',\n",
       "  'loc': 'Santa Clara Valley, CA',\n",
       "  'job_no': 8,\n",
       "  'title': 'Procedural Audio Engineer',\n",
       "  'desc': 'Summary Posted: Oct 26, 2018 Role Number: 200004361 Apple’s Technology Development Group is looking for a Procedural Audio Engineer to develop next generation...',\n",
       "  'age': '2 days ago',\n",
       "  'query_date': '2018-10-29',\n",
       "  'query_time': '12:43:03'},\n",
       " {'company': 'Apple',\n",
       "  'jcid': 'c1099851e9794854',\n",
       "  'loc': 'Santa Clara Valley, CA',\n",
       "  'job_no': 9,\n",
       "  'title': 'Motion Sensing Hardware Engineer: Pressure Sensors',\n",
       "  'desc': 'Summary Posted: Oct 26, 2018 Role Number: 200003980 You will play a key role in specifying, developing, characterizing, and validating motion sensing systems....',\n",
       "  'age': '2 days ago',\n",
       "  'query_date': '2018-10-29',\n",
       "  'query_time': '12:43:03'},\n",
       " {'company': 'Apple',\n",
       "  'jcid': 'c1099851e9794854',\n",
       "  'loc': 'Santa Clara Valley, CA',\n",
       "  'job_no': 10,\n",
       "  'title': 'CAD Engineer – ESD analysis',\n",
       "  'desc': 'Experience in one or more common scripting languages such as Perl, Tcl, Python. Oct 26, 2018....',\n",
       "  'age': '2 days ago',\n",
       "  'query_date': '2018-10-29',\n",
       "  'query_time': '12:43:03'},\n",
       " {'company': 'ExxonMobil',\n",
       "  'jcid': '1ddb91d85c72e885',\n",
       "  'loc': 'Houston, TX 77046 (Montrose area)',\n",
       "  'job_no': 1,\n",
       "  'title': 'Mathematical Optimization Research Scientist',\n",
       "  'desc': '• Expert in at least one major programming language (C/C++, C#, Java, Python, etc.). ExxonMobil is looking for a mathematical optimization scientist with...',\n",
       "  'age': '2 days ago',\n",
       "  'query_date': '2018-10-29',\n",
       "  'query_time': '12:43:03'},\n",
       " {'company': 'ExxonMobil',\n",
       "  'jcid': '1ddb91d85c72e885',\n",
       "  'loc': 'Houston, TX 77046 (Montrose area)',\n",
       "  'job_no': 2,\n",
       "  'title': 'Research Data Scientist',\n",
       "  'desc': 'Experience in Python, MATLAB, or R is required. Research Data Scientist....',\n",
       "  'age': '2 days ago',\n",
       "  'query_date': '2018-10-29',\n",
       "  'query_time': '12:43:03'},\n",
       " {'company': 'ExxonMobil',\n",
       "  'jcid': '1ddb91d85c72e885',\n",
       "  'loc': 'Houston, TX 77046 (Montrose area)',\n",
       "  'job_no': 3,\n",
       "  'title': 'Law Application Support Analyst',\n",
       "  'desc': 'Visual Studio .NET, SQL Server Management Studio, SQL Server Data Tools. SQL Server (ETL, Development in Stored Procedures / Trigger, working with large amount...',\n",
       "  'age': '3 days ago',\n",
       "  'query_date': '2018-10-29',\n",
       "  'query_time': '12:43:03'},\n",
       " {'company': 'ExxonMobil',\n",
       "  'jcid': '1ddb91d85c72e885',\n",
       "  'loc': 'Houston, TX 77046 (Montrose area)',\n",
       "  'job_no': 4,\n",
       "  'title': 'XTO IT Production Accounting Analyst',\n",
       "  'desc': 'Accounting, Database, SQL, Finance, Technology. Perform complex ad-hoc data extracts using MS SQL. Proficient with MS SQL database query optimization, in-depth...',\n",
       "  'age': '5 days ago',\n",
       "  'query_date': '2018-10-29',\n",
       "  'query_time': '12:43:03'},\n",
       " {'company': 'ExxonMobil',\n",
       "  'jcid': '1ddb91d85c72e885',\n",
       "  'loc': 'Houston, TX 77046 (Montrose area)',\n",
       "  'job_no': 5,\n",
       "  'title': 'XTO IT Business Analyst',\n",
       "  'desc': 'Proficient with SQL Server and Oracle. Business Analyst, Database, Oracle, SQL, Finance, Technology. Provide technical support, data management, end-user...',\n",
       "  'age': '5 days ago',\n",
       "  'query_date': '2018-10-29',\n",
       "  'query_time': '12:43:03'},\n",
       " {'company': 'ExxonMobil',\n",
       "  'jcid': '1ddb91d85c72e885',\n",
       "  'loc': 'Houston, TX 77046 (Montrose area)',\n",
       "  'job_no': 6,\n",
       "  'title': 'Interoperability Engineer',\n",
       "  'desc': 'Understanding ETL and SLT jobs/coding. Experience developing ETL architecture, principles and standards. 5+ years experience with ETL and SLT coding....',\n",
       "  'age': '5 days ago',\n",
       "  'query_date': '2018-10-29',\n",
       "  'query_time': '12:43:03'},\n",
       " {'company': 'ExxonMobil',\n",
       "  'jcid': '1ddb91d85c72e885',\n",
       "  'loc': 'Houston, TX 77046 (Montrose area)',\n",
       "  'job_no': 7,\n",
       "  'title': 'UX Research Designer',\n",
       "  'desc': 'Python, C#, VB.NET, JavaScript, Angular, HTML5, CSS3, AJAX, ASP.NET, REST APIs, Web Services, MVC 4.5, WPF, WebForms, Bootstrap....',\n",
       "  'age': '6 days ago',\n",
       "  'query_date': '2018-10-29',\n",
       "  'query_time': '12:43:03'},\n",
       " {'company': 'ExxonMobil',\n",
       "  'jcid': '1ddb91d85c72e885',\n",
       "  'loc': 'Spring, TX',\n",
       "  'job_no': 8,\n",
       "  'title': 'Analytics Innovation Advisor',\n",
       "  'desc': 'Analytics, Engineer, Database, SQL, Project Manager, Management, Engineering, Technology. Outstanding skills in various analytical domains including programing...',\n",
       "  'age': '7 days ago',\n",
       "  'query_date': '2018-10-29',\n",
       "  'query_time': '12:43:03'},\n",
       " {'company': 'ExxonMobil',\n",
       "  'jcid': '1ddb91d85c72e885',\n",
       "  'loc': 'Houston, TX 77046 (Montrose area)',\n",
       "  'job_no': 9,\n",
       "  'title': 'Technical Analyst',\n",
       "  'desc': 'Relational Database Management Systems & Database Modeling Fundamentals (SQL Server 2012+, Oracle, SQLITE3, MySQL, SQL, PL/SQL, T-SQL)....',\n",
       "  'age': '12 days ago',\n",
       "  'query_date': '2018-10-29',\n",
       "  'query_time': '12:43:03'},\n",
       " {'company': 'ExxonMobil',\n",
       "  'jcid': '1ddb91d85c72e885',\n",
       "  'loc': 'Houston, TX 77046 (Montrose area)',\n",
       "  'job_no': 10,\n",
       "  'title': 'System Architect',\n",
       "  'desc': 'Python, C#, VB.NET, JavaScript, Angular, HTML5, CSS3, AJAX, ASP.NET, REST APIs, Web Services, MVC 4.5, WPF, WebForms, Bootstrap....',\n",
       "  'age': '7 days ago',\n",
       "  'query_date': '2018-10-29',\n",
       "  'query_time': '12:43:03'},\n",
       " {'company': 'Booz Allen Hamilton',\n",
       "  'jcid': '4e041af1d0af1bc8',\n",
       "  'loc': 'Charlottesville, VA 22911',\n",
       "  'job_no': 1,\n",
       "  'title': 'DevOps Engineer, Junior',\n",
       "  'desc': '1 year of experience with programming, scripting, or markup languages, including Java, JavaScript, Bash, Ansible, Puppet, Salt, Python, Golang, C, C++, C#., XML...',\n",
       "  'age': '1 day ago',\n",
       "  'query_date': '2018-10-29',\n",
       "  'query_time': '12:43:04'},\n",
       " {'company': 'Booz Allen Hamilton',\n",
       "  'jcid': '4e041af1d0af1bc8',\n",
       "  'loc': 'San Diego, CA 92108',\n",
       "  'job_no': 2,\n",
       "  'title': 'Model-Based Systems Engineer, Senior',\n",
       "  'desc': 'Experience with object-oriented programming languages, including Java or Python. Model-Based Systems Engineer, Senior....',\n",
       "  'age': '1 day ago',\n",
       "  'query_date': '2018-10-29',\n",
       "  'query_time': '12:43:04'},\n",
       " {'company': 'Booz Allen Hamilton',\n",
       "  'jcid': '4e041af1d0af1bc8',\n",
       "  'loc': 'Reston, VA',\n",
       "  'job_no': 3,\n",
       "  'title': 'Solutions Architect, Senior',\n",
       "  'desc': 'Java EE, Python, NodeJS, or .NET. PostgreSQL, Microsoft SQL Server, Oracle DB, MySQL, or MariaDB. Solutions Architect, Senior....',\n",
       "  'age': '1 day ago',\n",
       "  'query_date': '2018-10-29',\n",
       "  'query_time': '12:43:04'},\n",
       " {'company': 'Booz Allen Hamilton',\n",
       "  'jcid': '4e041af1d0af1bc8',\n",
       "  'loc': 'Chantilly, VA 20151',\n",
       "  'job_no': 4,\n",
       "  'title': 'ETL Engineer',\n",
       "  'desc': '3+ years of experience with PL/SQL, SQL, Oracle, XML, and XSLT. Are you looking for an opportunity to build a powerhouse system that will modernize mission...',\n",
       "  'age': '2 days ago',\n",
       "  'query_date': '2018-10-29',\n",
       "  'query_time': '12:43:04'},\n",
       " {'company': 'Booz Allen Hamilton',\n",
       "  'jcid': '4e041af1d0af1bc8',\n",
       "  'loc': 'Albuquerque, NM',\n",
       "  'job_no': 5,\n",
       "  'title': 'Electromagnetic Pulse Subject Matter Expert',\n",
       "  'desc': 'Experience with scientific coding in C/C++, Python, Matlab, or equivalent, including reading and evaluating scientific code....',\n",
       "  'age': '2 days ago',\n",
       "  'query_date': '2018-10-29',\n",
       "  'query_time': '12:43:04'},\n",
       " {'company': 'Booz Allen Hamilton',\n",
       "  'jcid': '4e041af1d0af1bc8',\n",
       "  'loc': 'San Diego, CA 92108',\n",
       "  'job_no': 6,\n",
       "  'title': 'Model-Based Systems Engineer, Mid',\n",
       "  'desc': 'Experience with object-oriented programming languages, including Java or Python. Model-Based Systems Engineer, Mid....',\n",
       "  'age': '2 days ago',\n",
       "  'query_date': '2018-10-29',\n",
       "  'query_time': '12:43:04'},\n",
       " {'company': 'Booz Allen Hamilton',\n",
       "  'jcid': '4e041af1d0af1bc8',\n",
       "  'loc': 'Herndon, VA',\n",
       "  'job_no': 7,\n",
       "  'title': 'Back End Developer, Junior',\n",
       "  'desc': 'Back End Developer, Junior The Challenge: Are you looking for an opportunity to build a powerhouse system that will modernize the way things work? You know a...',\n",
       "  'age': '2 days ago',\n",
       "  'query_date': '2018-10-29',\n",
       "  'query_time': '12:43:04'},\n",
       " {'company': 'Booz Allen Hamilton',\n",
       "  'jcid': '4e041af1d0af1bc8',\n",
       "  'loc': 'McLean, VA',\n",
       "  'job_no': 8,\n",
       "  'title': 'Data Integration Field Engineer',\n",
       "  'desc': 'Data Integration Field Engineer The Challenge : Do you want to protect the federal government’s Cyber infrastructure from hackers, data breaches, and other...',\n",
       "  'age': '2 days ago',\n",
       "  'query_date': '2018-10-29',\n",
       "  'query_time': '12:43:04'},\n",
       " {'company': 'Booz Allen Hamilton',\n",
       "  'jcid': '4e041af1d0af1bc8',\n",
       "  'loc': 'Washington, DC',\n",
       "  'job_no': 9,\n",
       "  'title': 'Big Data Engineer',\n",
       "  'desc': 'Big Data Engineer Key Role: Collect data from various structured and unstructured data sources into Hadoop and other distributed Big Data systems. Leverage...',\n",
       "  'age': '2 days ago',\n",
       "  'query_date': '2018-10-29',\n",
       "  'query_time': '12:43:04'},\n",
       " {'company': 'Booz Allen Hamilton',\n",
       "  'jcid': '4e041af1d0af1bc8',\n",
       "  'loc': 'Guam',\n",
       "  'job_no': 10,\n",
       "  'title': 'Penetration Tester and Defense Assessment Analyst',\n",
       "  'desc': '1+ years of experience with Perl, Python, or equivalent scripting languages. Penetration Tester and Defense Assessment Analyst....',\n",
       "  'age': '2 days ago',\n",
       "  'query_date': '2018-10-29',\n",
       "  'query_time': '12:43:04'}]"
      ]
     },
     "execution_count": 64,
     "metadata": {},
     "output_type": "execute_result"
    }
   ],
   "source": [
    "jobs"
   ]
  },
  {
   "cell_type": "code",
   "execution_count": 5,
   "metadata": {},
   "outputs": [
    {
     "data": {
      "text/plain": [
       "bs4.element.ResultSet"
      ]
     },
     "execution_count": 5,
     "metadata": {},
     "output_type": "execute_result"
    }
   ],
   "source": [
    "type(soup.findAll('a'))"
   ]
  },
  {
   "cell_type": "code",
   "execution_count": 100,
   "metadata": {},
   "outputs": [
    {
     "data": {
      "text/plain": [
       "'<a href=\"/jobs?q=Walmart&amp;rbc=Walmart&amp;jcid=822bc5d9a49270ea&amp;sort=date\" rel=\"nofollow\" title=\"Walmart (3530)\">Walmart</a>'"
      ]
     },
     "execution_count": 100,
     "metadata": {},
     "output_type": "execute_result"
    }
   ],
   "source": [
    "a"
   ]
  },
  {
   "cell_type": "code",
   "execution_count": 15,
   "metadata": {},
   "outputs": [
    {
     "name": "stdout",
     "output_type": "stream",
     "text": [
      "/jobs?q=Walmart&rbc=Walmart&jcid=822bc5d9a49270ea&sort=date\n"
     ]
    }
   ],
   "source": [
    "# another (shorter) method to get url with jcid for company, which I figured out last!\n",
    "soup=bs(a,'html.parser')\n",
    "output=soup.a['href']\n",
    "print(output)"
   ]
  },
  {
   "cell_type": "code",
   "execution_count": 106,
   "metadata": {},
   "outputs": [
    {
     "data": {
      "text/plain": [
       "['<a href=',\n",
       " '/jobs?q=Walmart&amp;rbc=Walmart&amp;jcid=822bc5d9a49270ea&amp;sort=date',\n",
       " ' rel=',\n",
       " 'nofollow',\n",
       " ' title=',\n",
       " 'Walmart (3530)',\n",
       " '>Walmart</a>']"
      ]
     },
     "execution_count": 106,
     "metadata": {},
     "output_type": "execute_result"
    }
   ],
   "source": [
    "a.split('\"')"
   ]
  },
  {
   "cell_type": "code",
   "execution_count": 114,
   "metadata": {},
   "outputs": [
    {
     "data": {
      "text/plain": [
       "['<a href=',\n",
       " '/jobs?q=Walmart&amp;rbc=Walmart&amp;jcid=822bc5d9a49270ea&amp;sort=date',\n",
       " 'rel=',\n",
       " 'nofollow',\n",
       " 'title=',\n",
       " 'Walmart (3530)',\n",
       " '>Walmart</a>']"
      ]
     },
     "execution_count": 114,
     "metadata": {},
     "output_type": "execute_result"
    }
   ],
   "source": [
    "[z.strip() for z in a.split('\"')]"
   ]
  },
  {
   "cell_type": "code",
   "execution_count": 112,
   "metadata": {},
   "outputs": [],
   "source": [
    "a_list=[z.strip() for z in a.split('\"')]"
   ]
  },
  {
   "cell_type": "code",
   "execution_count": 113,
   "metadata": {},
   "outputs": [
    {
     "data": {
      "text/plain": [
       "['<a href=',\n",
       " '/jobs?q=Walmart&amp;rbc=Walmart&amp;jcid=822bc5d9a49270ea&amp;sort=date',\n",
       " 'rel=',\n",
       " 'nofollow',\n",
       " 'title=',\n",
       " 'Walmart (3530)',\n",
       " '>Walmart</a>']"
      ]
     },
     "execution_count": 113,
     "metadata": {},
     "output_type": "execute_result"
    }
   ],
   "source": [
    "a_list"
   ]
  },
  {
   "cell_type": "code",
   "execution_count": 123,
   "metadata": {},
   "outputs": [
    {
     "data": {
      "text/plain": [
       "['822bc5d9a49270ea', 'amp;sort=date']"
      ]
     },
     "execution_count": 123,
     "metadata": {},
     "output_type": "execute_result"
    }
   ],
   "source": [
    "a_list[1].split(\"jcid=\")[1].split('&')"
   ]
  },
  {
   "cell_type": "code",
   "execution_count": 126,
   "metadata": {},
   "outputs": [],
   "source": [
    "jcid=a_list[1].split(\"jcid=\")[1].split('&')[0]"
   ]
  },
  {
   "cell_type": "code",
   "execution_count": 127,
   "metadata": {},
   "outputs": [],
   "source": [
    "second_url_step=\"https://www.indeed.com/jobs?q=\"+ what + \"&rbc=\" + co + \"&jcid=\" + jcid + \"&sort=date\""
   ]
  },
  {
   "cell_type": "code",
   "execution_count": 128,
   "metadata": {},
   "outputs": [
    {
     "data": {
      "text/plain": [
       "'https://www.indeed.com/jobs?q=python,+sql,+etl&rbc=Walmart&jcid=822bc5d9a49270ea&sort=date'"
      ]
     },
     "execution_count": 128,
     "metadata": {},
     "output_type": "execute_result"
    }
   ],
   "source": [
    "# I DID IT FINALLY !!!! YAH\n",
    "second_url_step"
   ]
  },
  {
   "cell_type": "code",
   "execution_count": 129,
   "metadata": {},
   "outputs": [],
   "source": [
    "html = requests.get(second_url_step)\n",
    "soup = bs(html.text, 'html.parser')"
   ]
  },
  {
   "cell_type": "code",
   "execution_count": 130,
   "metadata": {},
   "outputs": [
    {
     "data": {
      "text/plain": [
       "<Response [200]>"
      ]
     },
     "execution_count": 130,
     "metadata": {},
     "output_type": "execute_result"
    }
   ],
   "source": [
    "html"
   ]
  },
  {
   "cell_type": "code",
   "execution_count": 131,
   "metadata": {},
   "outputs": [
    {
     "data": {
      "text/plain": [
       "'San Bruno, CA 94066'"
      ]
     },
     "execution_count": 131,
     "metadata": {},
     "output_type": "execute_result"
    }
   ],
   "source": [
    "soup.find('span', {'class':'location'}).text"
   ]
  },
  {
   "cell_type": "code",
   "execution_count": null,
   "metadata": {},
   "outputs": [],
   "source": []
  },
  {
   "cell_type": "code",
   "execution_count": null,
   "metadata": {},
   "outputs": [],
   "source": []
  },
  {
   "cell_type": "code",
   "execution_count": null,
   "metadata": {},
   "outputs": [],
   "source": []
  },
  {
   "cell_type": "code",
   "execution_count": null,
   "metadata": {},
   "outputs": [],
   "source": []
  },
  {
   "cell_type": "code",
   "execution_count": 97,
   "metadata": {},
   "outputs": [
    {
     "name": "stdout",
     "output_type": "stream",
     "text": [
      "<a href=\"/jobs?q=Walmart&amp;rbc=Walmart&amp;jcid=822bc5d9a49270ea&amp;sort=date\" rel=\"nofollow\" title=\"Walmart (3530)\">Walmart</a>\n"
     ]
    }
   ],
   "source": [
    "co_string='>'+ top_fortune500[0]+'<'\n",
    "a_all=soup.findAll('a',rel='nofollow')\n",
    "for a in a_all:\n",
    "    a=str(a)\n",
    "    if 'jcid' in a and co_string in a:\n",
    "        print(a)"
   ]
  },
  {
   "cell_type": "code",
   "execution_count": 89,
   "metadata": {},
   "outputs": [
    {
     "data": {
      "text/plain": [
       "<a class=\"jobtitle turnstileLink\" data-tn-element=\"jobTitle\" href=\"/pagead/clk?mo=r&amp;ad=-6NYlbfkN0AE_hSNsRmPdLidQg_t10BUABakd1pBW5iq03Oz2Gb7VzmmHANgteymFqXM7W8DTslIIW5iOkGddausMtjWS8CJuPnCzxoIbyRZwr9mB1XqGA8H6-nNW1FOIK1txxeCwvTKLTOORjT6fs09qsvbDM0V4lxSaaaN3n24zVbWtb8hZMZX1LmgmZDw1AT6cCY-bfjInrC4hIAZahUo92giGpMpuDkxqTVqaoYT4Bxwir0vtmhkvOZLq3-B3uuZu7wTMFHRquVPKM1YTEA1qrbOVvHT_fspSC0DSyBYZBgZuj9q2vao_xsLse5IWNwEyRdpId8W5z6qLoGpiv9gfHl4rDFa9cWneM88-1NXNJPehGobRbay4Lqj_Pxo0cqWG3vqHrcw98ekIZSzq3faePzxbHO-7KzJgIiC5NwFmzjc8dFCqSWlzEO82RS7&amp;vjs=3&amp;p=3&amp;sk=&amp;fvj=0\" id=\"sja3\" onclick=\"setRefineByCookie([]); sjoc('sja3',0); convCtr('SJ')\" onmousedown=\"sjomd('sja3'); clk('sja3');\" rel=\"noopener nofollow\" target=\"_blank\" title=\"Stocking Associate\">Stocking Associate</a>"
      ]
     },
     "execution_count": 89,
     "metadata": {},
     "output_type": "execute_result"
    }
   ],
   "source": [
    "a"
   ]
  }
 ],
 "metadata": {
  "kernelspec": {
   "display_name": "Python 3",
   "language": "python",
   "name": "python3"
  },
  "language_info": {
   "codemirror_mode": {
    "name": "ipython",
    "version": 3
   },
   "file_extension": ".py",
   "mimetype": "text/x-python",
   "name": "python",
   "nbconvert_exporter": "python",
   "pygments_lexer": "ipython3",
   "version": "3.6.5"
  }
 },
 "nbformat": 4,
 "nbformat_minor": 2
}
